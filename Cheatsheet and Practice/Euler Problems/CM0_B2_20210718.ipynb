{
  "nbformat": 4,
  "nbformat_minor": 0,
  "metadata": {
    "colab": {
      "name": "CM0-B2-20210718.ipynb",
      "private_outputs": true,
      "provenance": [],
      "collapsed_sections": []
    },
    "kernelspec": {
      "name": "python3",
      "display_name": "Python 3"
    },
    "language_info": {
      "name": "python"
    }
  },
  "cells": [
    {
      "cell_type": "markdown",
      "metadata": {
        "id": "A6GPGARJktDj"
      },
      "source": [
        "# Agenda\n",
        " * Odometer - list implementation\n",
        " * Refactoring\n",
        " * Pandas and Matplotlib -- case study\n",
        " * Overview of numpy, scipy, scikitlearn\n",
        " * graphviz, $\\LaTeX$ :: Optional"
      ]
    },
    {
      "cell_type": "markdown",
      "metadata": {
        "id": "WMMcSEEVlaWD"
      },
      "source": [
        "### What were the Odometer readings actually?"
      ]
    },
    {
      "cell_type": "code",
      "metadata": {
        "id": "K16zeDomoEwG"
      },
      "source": [
        "import itertools as it"
      ],
      "execution_count": null,
      "outputs": []
    },
    {
      "cell_type": "code",
      "metadata": {
        "id": "UE1SvDPmoJs5"
      },
      "source": [
        "list(it.combinations(\"abcd\", 2))"
      ],
      "execution_count": null,
      "outputs": []
    },
    {
      "cell_type": "code",
      "metadata": {
        "id": "aGcoLKcSoRUr"
      },
      "source": [
        "list(it.combinations(\"123456789\", 3))[:10]"
      ],
      "execution_count": null,
      "outputs": []
    },
    {
      "cell_type": "code",
      "metadata": {
        "id": "Ri8DSgiyofwX"
      },
      "source": [
        ""
      ],
      "execution_count": null,
      "outputs": []
    },
    {
      "cell_type": "code",
      "metadata": {
        "id": "V7CrbZAQox61"
      },
      "source": [
        "[''.join(x) for x in it.combinations(\"123456789\", 3)][:10]"
      ],
      "execution_count": null,
      "outputs": []
    },
    {
      "cell_type": "code",
      "metadata": {
        "id": "HDVbkiMMo3da"
      },
      "source": [
        ""
      ],
      "execution_count": null,
      "outputs": []
    },
    {
      "cell_type": "markdown",
      "metadata": {
        "id": "cnwUuiRoyxjN"
      },
      "source": [
        "# Refactoring"
      ]
    },
    {
      "cell_type": "code",
      "metadata": {
        "id": "StcGBzg0zb87"
      },
      "source": [
        "def myfunc(a):\n",
        "    empty=[]\n",
        "    for i in range(len(a)):\n",
        "        if i%2==0:\n",
        "            empty.append(a[i].upper())\n",
        "        else:\n",
        "            empty.append(a[i].lower())\n",
        "\n",
        "    return \"\".join(empty)"
      ],
      "execution_count": null,
      "outputs": []
    },
    {
      "cell_type": "markdown",
      "metadata": {
        "id": "6PO3DEbO0C9y"
      },
      "source": [
        ""
      ]
    },
    {
      "cell_type": "code",
      "metadata": {
        "id": "5PgvRyeB2ABe"
      },
      "source": [
        "(x if cond else y) ===> cond?x:y"
      ],
      "execution_count": null,
      "outputs": []
    },
    {
      "cell_type": "code",
      "metadata": {
        "id": "dQFkna183QJi"
      },
      "source": [
        "def alt_case(s: str) -> str:\n",
        "    if len(s) == 0:\n",
        "        return s\n",
        "    elif len(s) == 1:\n",
        "        return s.upper()\n",
        "    else:\n",
        "        return s[0].upper() + s[1].lower() + alt_case(s[2:])"
      ],
      "execution_count": null,
      "outputs": []
    },
    {
      "cell_type": "code",
      "metadata": {
        "id": "cbXWmnA_3kix"
      },
      "source": [
        "def up(ch):\n",
        "    return ch.upper()\n",
        "def lo(ch):\n",
        "    return ch.lower()\n",
        "def altcase(s: str) -> str:\n",
        "    return ''.join([ch.upper(), ch.lower()][i%2] for i, ch in enumerate(s)])"
      ],
      "execution_count": null,
      "outputs": []
    },
    {
      "cell_type": "code",
      "metadata": {
        "id": "NSSmuurE6mqK"
      },
      "source": [
        "def altCase(s: str) -> str:\n",
        "    s = s + \" \"\n",
        "    s2 = zip(s[::2].upper(), s[1::2].lower())\n",
        "    return (''.join(''.join(ul) for ul in s2))[:-1]"
      ],
      "execution_count": null,
      "outputs": []
    },
    {
      "cell_type": "code",
      "metadata": {
        "id": "sg0YKjwu7Iav"
      },
      "source": [
        "s = \"Hello World!\""
      ],
      "execution_count": null,
      "outputs": []
    },
    {
      "cell_type": "code",
      "metadata": {
        "id": "PShrzt_s7VHZ"
      },
      "source": [
        "zip(s[::2].upper(), s[1::2].lower())"
      ],
      "execution_count": null,
      "outputs": []
    },
    {
      "cell_type": "code",
      "metadata": {
        "id": "sLUBLrBf7aoQ"
      },
      "source": [
        "list(zip(s[::2].upper(), s[1::2].lower()))"
      ],
      "execution_count": null,
      "outputs": []
    },
    {
      "cell_type": "markdown",
      "metadata": {
        "id": "8z6OQIOA7rUe"
      },
      "source": [
        "# Pandas"
      ]
    },
    {
      "cell_type": "code",
      "metadata": {
        "id": "bObIfFKz8qYg"
      },
      "source": [
        "!head ghw.csv"
      ],
      "execution_count": null,
      "outputs": []
    },
    {
      "cell_type": "code",
      "metadata": {
        "id": "nMeUi-ch9RJH"
      },
      "source": [
        "!tail ghw.csv"
      ],
      "execution_count": null,
      "outputs": []
    },
    {
      "cell_type": "code",
      "metadata": {
        "id": "AyUhu0t6_0BG"
      },
      "source": [
        "data = []\n",
        "for line in open(\"ghw.csv\"):\n",
        "    data.append(line)"
      ],
      "execution_count": null,
      "outputs": []
    },
    {
      "cell_type": "code",
      "metadata": {
        "id": "ltmDDdAaAjy0"
      },
      "source": [
        "data[:10]"
      ],
      "execution_count": null,
      "outputs": []
    },
    {
      "cell_type": "code",
      "metadata": {
        "id": "ePZM2hkwAtST"
      },
      "source": [
        "len(data)"
      ],
      "execution_count": null,
      "outputs": []
    },
    {
      "cell_type": "code",
      "metadata": {
        "id": "pY3tufYlAxWt"
      },
      "source": [
        "data = []\n",
        "COMMA = ','\n",
        "for line in open(\"ghw.csv\"):\n",
        "    line = line.strip()\n",
        "    g, h, w = line.split(COMMA)\n",
        "    data.append([g, h, w])"
      ],
      "execution_count": null,
      "outputs": []
    },
    {
      "cell_type": "code",
      "metadata": {
        "id": "kN-0-RQCBb4M"
      },
      "source": [
        "data[:10]"
      ],
      "execution_count": null,
      "outputs": []
    },
    {
      "cell_type": "code",
      "metadata": {
        "id": "jn8v5WgQBgCd"
      },
      "source": [
        "data = []\n",
        "COMMA, QUOTE = ',', '\"'\n",
        "FIRST_LINE = True\n",
        "for line in open(\"ghw.csv\"):\n",
        "    if FIRST_LINE:\n",
        "        FIRST_LINE = False\n",
        "    else:\n",
        "        line = line.strip()\n",
        "        g_raw, h_raw, w_raw = line.split(COMMA)\n",
        "        g = g_raw.strip(QUOTE)\n",
        "        h = float(h_raw)\n",
        "        w = float(w_raw)\n",
        "        data.append([g, h, w])"
      ],
      "execution_count": null,
      "outputs": []
    },
    {
      "cell_type": "code",
      "metadata": {
        "id": "mdDDqxboCdgS"
      },
      "source": [
        "data[:10]"
      ],
      "execution_count": null,
      "outputs": []
    },
    {
      "cell_type": "code",
      "metadata": {
        "id": "Rp1_j0sLCi57"
      },
      "source": [
        "data = []\n",
        "COMMA, QUOTE = ',', '\"'\n",
        "POUNDS2KG, INCHES2CM = 0.454, 2.54\n",
        "FIRST_LINE = True\n",
        "for line in open(\"ghw.csv\"):\n",
        "    if FIRST_LINE:\n",
        "        FIRST_LINE = False\n",
        "    else:\n",
        "        line = line.strip()\n",
        "        g_raw, h_raw, w_raw = line.split(COMMA)\n",
        "        g = g_raw.strip(QUOTE)\n",
        "        h = int(float(h_raw) * INCHES2CM + 0.5)\n",
        "        w = int(float(w_raw) * POUNDS2KG + 0.5)\n",
        "        data.append([g, h, w])"
      ],
      "execution_count": null,
      "outputs": []
    },
    {
      "cell_type": "code",
      "metadata": {
        "id": "6JVUKA1IHPZI"
      },
      "source": [
        "data[:10]"
      ],
      "execution_count": null,
      "outputs": []
    },
    {
      "cell_type": "code",
      "metadata": {
        "id": "9ZxyJJdYHQzT"
      },
      "source": [
        "import pandas as pd"
      ],
      "execution_count": null,
      "outputs": []
    },
    {
      "cell_type": "code",
      "metadata": {
        "id": "q3_LJdPhJXsZ"
      },
      "source": [
        "pd.read_csv(\"ghw.csv\")"
      ],
      "execution_count": null,
      "outputs": []
    },
    {
      "cell_type": "code",
      "metadata": {
        "id": "gQtdlqPdJc5E"
      },
      "source": [
        "data = pd.read_csv(\"ghw.csv\")"
      ],
      "execution_count": null,
      "outputs": []
    },
    {
      "cell_type": "code",
      "metadata": {
        "id": "154pv2DeJvXD"
      },
      "source": [
        "data.describe()"
      ],
      "execution_count": null,
      "outputs": []
    },
    {
      "cell_type": "code",
      "metadata": {
        "id": "dmxlLuyBJ7kc"
      },
      "source": [
        "type(data)"
      ],
      "execution_count": null,
      "outputs": []
    },
    {
      "cell_type": "code",
      "metadata": {
        "id": "58fiJN_rKqtY"
      },
      "source": [
        "data[\"Gender\"]"
      ],
      "execution_count": null,
      "outputs": []
    },
    {
      "cell_type": "code",
      "metadata": {
        "id": "ajJ1OYePLPw-"
      },
      "source": [
        "data[\"Height\"]"
      ],
      "execution_count": null,
      "outputs": []
    },
    {
      "cell_type": "code",
      "metadata": {
        "id": "NW_QORl7LbRR"
      },
      "source": [
        "POUNDS2KG, INCHES2CM = 0.454, 2.54\n",
        "def inches2cm(s: str) -> int:\n",
        "    return int(INCHES2CM * float(s) + 0.5)\n",
        "def pounds2kg(s: str) -> int:\n",
        "    return int(POUNDS2KG * float(s) + 0.5)"
      ],
      "execution_count": null,
      "outputs": []
    },
    {
      "cell_type": "code",
      "metadata": {
        "id": "yAcwQBGzMC3S"
      },
      "source": [
        "data = pd.read_csv(\"ghw.csv\", converters = {\"Weight\": pounds2kg, \"Height\": inches2cm})"
      ],
      "execution_count": null,
      "outputs": []
    },
    {
      "cell_type": "code",
      "metadata": {
        "id": "6SLtFRPSMgZb"
      },
      "source": [
        "data[:10]"
      ],
      "execution_count": null,
      "outputs": []
    },
    {
      "cell_type": "code",
      "metadata": {
        "id": "gz5EBx9lMhrx"
      },
      "source": [
        "data.Gender"
      ],
      "execution_count": null,
      "outputs": []
    },
    {
      "cell_type": "code",
      "metadata": {
        "id": "eqvFO93NNnjs"
      },
      "source": [
        "data = pd.read_csv(\"ghw.csv\", header = 0, names = [\"gen\", \"ht\", \"wt\"], converters = {\"wt\": pounds2kg, \"ht\": inches2cm})"
      ],
      "execution_count": null,
      "outputs": []
    },
    {
      "cell_type": "code",
      "metadata": {
        "id": "bXIVeFODOmAM"
      },
      "source": [
        "data.describe()"
      ],
      "execution_count": null,
      "outputs": []
    },
    {
      "cell_type": "code",
      "metadata": {
        "id": "g6VZn-YrOniq"
      },
      "source": [
        "pd.read_csv?"
      ],
      "execution_count": null,
      "outputs": []
    },
    {
      "cell_type": "code",
      "metadata": {
        "id": "SsuOnEeYPZf0"
      },
      "source": [
        "gents = data[data.gen == \"Male\"]"
      ],
      "execution_count": null,
      "outputs": []
    },
    {
      "cell_type": "code",
      "metadata": {
        "id": "e40J_yQmQeJg"
      },
      "source": [
        "gents.describe()"
      ],
      "execution_count": null,
      "outputs": []
    },
    {
      "cell_type": "code",
      "metadata": {
        "id": "pHSdTRhbQf5t"
      },
      "source": [
        "ladies = data[data.gen == \"Female\"]"
      ],
      "execution_count": null,
      "outputs": []
    },
    {
      "cell_type": "code",
      "metadata": {
        "id": "yfPxUo09QtP1"
      },
      "source": [
        "tall = data[data.ht >= 180]"
      ],
      "execution_count": null,
      "outputs": []
    },
    {
      "cell_type": "code",
      "metadata": {
        "id": "pUDf6_A1QxqU"
      },
      "source": [
        "tall.describe()"
      ],
      "execution_count": null,
      "outputs": []
    },
    {
      "cell_type": "code",
      "metadata": {
        "id": "P6kAAgdIQ1DE"
      },
      "source": [
        "tall_ladies = data[(data.gen == 'Female') & (data.ht >= 175)]"
      ],
      "execution_count": null,
      "outputs": []
    },
    {
      "cell_type": "code",
      "metadata": {
        "id": "qBXrpAI8RNQJ"
      },
      "source": [
        "tall_ladies.to_csv(\"Tall-Ladies.csv\")"
      ],
      "execution_count": null,
      "outputs": []
    },
    {
      "cell_type": "code",
      "metadata": {
        "id": "6BU9qG8XSTk6"
      },
      "source": [
        "set(data.gen)"
      ],
      "execution_count": null,
      "outputs": []
    },
    {
      "cell_type": "markdown",
      "metadata": {
        "id": "7ckeZjFvStcX"
      },
      "source": [
        "# Visualization"
      ]
    },
    {
      "cell_type": "code",
      "metadata": {
        "id": "7VR2YdlvUCkr"
      },
      "source": [
        "data = pd.read_csv(\"ghw.csv\", converters = {\"Weight\": pounds2kg, \"Height\": inches2cm})\n",
        "male = data[data.Gender == \"Male\"]\n",
        "female = data[data.Gender == \"Female\"]"
      ],
      "execution_count": null,
      "outputs": []
    },
    {
      "cell_type": "code",
      "metadata": {
        "id": "77b5XPR1T27B"
      },
      "source": [
        "import matplotlib.pyplot as plt"
      ],
      "execution_count": null,
      "outputs": []
    },
    {
      "cell_type": "code",
      "metadata": {
        "id": "pVBnAc8tT8px"
      },
      "source": [
        "plt.plot(data.Height, data.Weight, \"bo\")\n",
        "plt.xlabel(\"Height (in cms)\")\n",
        "plt.ylabel(\"Weight (in kgs)\")"
      ],
      "execution_count": null,
      "outputs": []
    },
    {
      "cell_type": "code",
      "metadata": {
        "id": "FMmiCbGnUZwD"
      },
      "source": [
        "plt.plot(male.Height, male.Weight, \"bo\")\n",
        "plt.plot(female.Height, female.Weight, \"k+\")\n",
        "plt.xlabel(\"Height (in cms)\")\n",
        "plt.ylabel(\"Weight (in kgs)\")"
      ],
      "execution_count": null,
      "outputs": []
    },
    {
      "cell_type": "code",
      "metadata": {
        "id": "TUOF_eE_VJYE"
      },
      "source": [
        "plt.savefig(\"hvw.png\")"
      ],
      "execution_count": null,
      "outputs": []
    },
    {
      "cell_type": "markdown",
      "metadata": {
        "id": "O0PLwAKSYqoG"
      },
      "source": [
        "# collections"
      ]
    },
    {
      "cell_type": "code",
      "metadata": {
        "id": "j-MrN0H2akBy"
      },
      "source": [
        "s = \" long long ago, in a galaxy far far away, the evil empire was terrorising its citizens. The rebellion was led by Leia\""
      ],
      "execution_count": null,
      "outputs": []
    },
    {
      "cell_type": "code",
      "metadata": {
        "id": "7FKNZMlsa0Is"
      },
      "source": [
        "freq = {}\n",
        "for ch in s.lower():\n",
        "    if ch not in freq:\n",
        "        freq[ch] = 0\n",
        "    freq[ch] += 1"
      ],
      "execution_count": null,
      "outputs": []
    },
    {
      "cell_type": "code",
      "metadata": {
        "id": "IsNvKwV2bHdF"
      },
      "source": [
        "print(freq)"
      ],
      "execution_count": null,
      "outputs": []
    },
    {
      "cell_type": "code",
      "metadata": {
        "id": "ZRTfhEfEbJAa"
      },
      "source": [
        "max(freq.values())"
      ],
      "execution_count": null,
      "outputs": []
    },
    {
      "cell_type": "code",
      "metadata": {
        "id": "UhCHrJrcbnTG"
      },
      "source": [
        "import collections"
      ],
      "execution_count": null,
      "outputs": []
    },
    {
      "cell_type": "code",
      "metadata": {
        "id": "JbVQrn9kb33X"
      },
      "source": [
        "freq = collections.Counter(s.lower())"
      ],
      "execution_count": null,
      "outputs": []
    },
    {
      "cell_type": "code",
      "metadata": {
        "id": "EbMOvxnNb7uP"
      },
      "source": [
        "freq.most_common(5)"
      ],
      "execution_count": null,
      "outputs": []
    },
    {
      "cell_type": "code",
      "metadata": {
        "id": "ljOupmg4cB68"
      },
      "source": [
        "wfreq = collections.Counter(s.lower().split())"
      ],
      "execution_count": null,
      "outputs": []
    },
    {
      "cell_type": "code",
      "metadata": {
        "id": "_o4lIGWPcZNt"
      },
      "source": [
        "wfreq.most_common(3)"
      ],
      "execution_count": null,
      "outputs": []
    },
    {
      "cell_type": "markdown",
      "metadata": {
        "id": "eeWEP26_ccMi"
      },
      "source": [
        "## $\\LaTeX$"
      ]
    },
    {
      "cell_type": "markdown",
      "metadata": {
        "id": "gf5aZ1qMeLZG"
      },
      "source": [
        "$S' = \\{ \\phi(x) | x \\in S, \\pi(x) \\}$\n",
        "\n",
        "$\\alpha$"
      ]
    },
    {
      "cell_type": "code",
      "metadata": {
        "id": "QTApJ8eYeaEi"
      },
      "source": [
        "S1 = [phi(x) for x in S if pi(x)]"
      ],
      "execution_count": null,
      "outputs": []
    },
    {
      "cell_type": "code",
      "metadata": {
        "id": "UXvlit65e1hZ"
      },
      "source": [
        "S = "
      ],
      "execution_count": null,
      "outputs": []
    },
    {
      "cell_type": "markdown",
      "metadata": {
        "id": "p4KJkVU4eyME"
      },
      "source": [
        "# NumPy"
      ]
    },
    {
      "cell_type": "code",
      "metadata": {
        "id": "T5_n5H6Xyfr_"
      },
      "source": [
        "import numpy as np"
      ],
      "execution_count": null,
      "outputs": []
    },
    {
      "cell_type": "code",
      "metadata": {
        "id": "TyeqzHN7zcQB"
      },
      "source": [
        "a = np.array([[1, 3, 6], [2, 6, 7], [-1, 2, 5]])"
      ],
      "execution_count": null,
      "outputs": []
    },
    {
      "cell_type": "code",
      "metadata": {
        "id": "MGDx4Yg40DwK"
      },
      "source": [
        "a."
      ],
      "execution_count": null,
      "outputs": []
    },
    {
      "cell_type": "code",
      "metadata": {
        "id": "Aa1P-h4q0Kcf"
      },
      "source": [
        "b = np.array([[2, 4, 5], [1, 5, -3], [-2, 4, 3]])"
      ],
      "execution_count": null,
      "outputs": []
    },
    {
      "cell_type": "code",
      "metadata": {
        "id": "Lgs5ZEhn0ZOR"
      },
      "source": [
        "a + 2"
      ],
      "execution_count": null,
      "outputs": []
    },
    {
      "cell_type": "code",
      "metadata": {
        "id": "j0BGWnsz0cVe"
      },
      "source": [
        "a + b"
      ],
      "execution_count": null,
      "outputs": []
    },
    {
      "cell_type": "code",
      "metadata": {
        "id": "X8SHS6vY0fV-"
      },
      "source": [
        "a * b"
      ],
      "execution_count": null,
      "outputs": []
    },
    {
      "cell_type": "code",
      "metadata": {
        "id": "oeDvUCqp0guZ"
      },
      "source": [
        "a @ b"
      ],
      "execution_count": null,
      "outputs": []
    },
    {
      "cell_type": "code",
      "metadata": {
        "id": "ENxjkZ0N0iGP"
      },
      "source": [
        "b.T"
      ],
      "execution_count": null,
      "outputs": []
    },
    {
      "cell_type": "code",
      "metadata": {
        "id": "4E-y1SnB0kWC"
      },
      "source": [
        "a.shape"
      ],
      "execution_count": null,
      "outputs": []
    },
    {
      "cell_type": "code",
      "metadata": {
        "id": "DA7knvaV1YVU"
      },
      "source": [
        "np.arange?"
      ],
      "execution_count": null,
      "outputs": []
    },
    {
      "cell_type": "code",
      "metadata": {
        "id": "n1S6sBoc1f4O"
      },
      "source": [
        "xs = np.linspace(-np.pi, np.pi, 100)"
      ],
      "execution_count": null,
      "outputs": []
    },
    {
      "cell_type": "code",
      "metadata": {
        "id": "fURYA47H1tkn"
      },
      "source": [
        "ys = np.sin(xs)"
      ],
      "execution_count": null,
      "outputs": []
    },
    {
      "cell_type": "code",
      "metadata": {
        "id": "Vt0gwMVw2Gdz"
      },
      "source": [
        "type(ys)"
      ],
      "execution_count": null,
      "outputs": []
    },
    {
      "cell_type": "code",
      "metadata": {
        "id": "RXG2jVtf2JfP"
      },
      "source": [
        "import matplotlib.pyplot as plt\n",
        "plt.plot(xs, ys)"
      ],
      "execution_count": null,
      "outputs": []
    },
    {
      "cell_type": "code",
      "metadata": {
        "id": "VPpGd6ya2Y61"
      },
      "source": [
        "aa = np.linspace(-10, 10, 120)"
      ],
      "execution_count": null,
      "outputs": []
    },
    {
      "cell_type": "code",
      "metadata": {
        "id": "kRqxVub32idU"
      },
      "source": [
        "aa.shape"
      ],
      "execution_count": null,
      "outputs": []
    },
    {
      "cell_type": "code",
      "metadata": {
        "id": "kYZIbRqj2kZq"
      },
      "source": [
        "bb = aa.reshape(30, 4)"
      ],
      "execution_count": null,
      "outputs": []
    },
    {
      "cell_type": "code",
      "metadata": {
        "id": "o1__-4aL2oCh"
      },
      "source": [
        "bb.shape"
      ],
      "execution_count": null,
      "outputs": []
    },
    {
      "cell_type": "code",
      "metadata": {
        "id": "Eqfu_Q_K2qFT"
      },
      "source": [
        "ts = aa.reshape(5, 6, 4)"
      ],
      "execution_count": null,
      "outputs": []
    },
    {
      "cell_type": "code",
      "metadata": {
        "id": "SsmSyWJ92yht"
      },
      "source": [
        "ts.shape"
      ],
      "execution_count": null,
      "outputs": []
    },
    {
      "cell_type": "code",
      "metadata": {
        "id": "Eal03rAA2zQ-"
      },
      "source": [
        "import scipy.linalg as la"
      ],
      "execution_count": null,
      "outputs": []
    },
    {
      "cell_type": "code",
      "metadata": {
        "id": "fECuM2LP4EWl"
      },
      "source": [
        "la.eig(b)"
      ],
      "execution_count": null,
      "outputs": []
    },
    {
      "cell_type": "code",
      "metadata": {
        "id": "rzaGCXb14IOP"
      },
      "source": [
        ""
      ],
      "execution_count": null,
      "outputs": []
    }
  ]
}