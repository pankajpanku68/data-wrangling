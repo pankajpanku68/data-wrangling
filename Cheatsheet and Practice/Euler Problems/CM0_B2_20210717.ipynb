{
  "nbformat": 4,
  "nbformat_minor": 0,
  "metadata": {
    "colab": {
      "name": "CM0-B2-20210717.ipynb",
      "private_outputs": true,
      "provenance": [],
      "collapsed_sections": []
    },
    "kernelspec": {
      "name": "python3",
      "display_name": "Python 3"
    },
    "language_info": {
      "name": "python"
    }
  },
  "cells": [
    {
      "cell_type": "code",
      "metadata": {
        "id": "RSgDjGCTcIle"
      },
      "source": [
        ""
      ],
      "execution_count": null,
      "outputs": []
    },
    {
      "cell_type": "code",
      "metadata": {
        "id": "SiXd8UUOhftB"
      },
      "source": [
        "romans = ((1000, 'M'), (900, 'CM'), (500, 'D'), (400, 'CD'), (100, 'C'), (90, 'XC'), (50, 'L'),\n",
        "          (40, 'XL'), (10, 'X'), (9, 'IX'), (5, 'V'), (4, 'IV'), (1, 'I'))"
      ],
      "execution_count": null,
      "outputs": []
    },
    {
      "cell_type": "code",
      "metadata": {
        "id": "RluCvRI4mM7Z"
      },
      "source": [
        "def arabic2roman(n: int) -> str:\n",
        "    roman_string = ''\n",
        "    for arabic, roman in romans:\n",
        "        roman_string += (n // arabic) * roman\n",
        "        n %= arabic\n",
        "    return roman_string"
      ],
      "execution_count": null,
      "outputs": []
    },
    {
      "cell_type": "code",
      "metadata": {
        "id": "fqMLhhn-m0sC"
      },
      "source": [
        "arabic2roman(2786)"
      ],
      "execution_count": null,
      "outputs": []
    },
    {
      "cell_type": "code",
      "metadata": {
        "id": "rCNhIwe5nlLq"
      },
      "source": [
        "def split_into(units: [int], amount: int) -> [(int, int)]:\n",
        "    splits = []\n",
        "    for unit in sorted(units, reverse = True):\n",
        "        splits.append((amount // unit, unit))\n",
        "        amount %= unit\n",
        "    return splits"
      ],
      "execution_count": null,
      "outputs": []
    },
    {
      "cell_type": "code",
      "metadata": {
        "id": "TbQkbN00oq_Q"
      },
      "source": [
        "split_into([1000, 900, 500, 400, 100, 90, 50, 40, 10, 9, 5, 4, 1], 2786)"
      ],
      "execution_count": null,
      "outputs": []
    },
    {
      "cell_type": "code",
      "metadata": {
        "id": "YL-LxD9mo0uQ"
      },
      "source": [
        "roman_dict = {a:r for a, r in romans}\n"
      ],
      "execution_count": null,
      "outputs": []
    },
    {
      "cell_type": "code",
      "metadata": {
        "id": "BHZ0KTiOpMRd"
      },
      "source": [
        "roman_dict"
      ],
      "execution_count": null,
      "outputs": []
    },
    {
      "cell_type": "code",
      "metadata": {
        "id": "Z1yQDvyLpNuP"
      },
      "source": [
        "split_into(roman_dict.keys(), 2786)"
      ],
      "execution_count": null,
      "outputs": []
    },
    {
      "cell_type": "code",
      "metadata": {
        "id": "HaDjQ6bRq2pL"
      },
      "source": [
        "[(a, roman_dict[r]) for a, r in split_into(roman_dict.keys(), 2786)]"
      ],
      "execution_count": null,
      "outputs": []
    },
    {
      "cell_type": "code",
      "metadata": {
        "id": "YTH2X6XDrDv0"
      },
      "source": [
        "[(a, roman_dict[r]) for a, r in split_into(roman_dict.keys(), 2786) if a > 0]"
      ],
      "execution_count": null,
      "outputs": []
    },
    {
      "cell_type": "code",
      "metadata": {
        "id": "MHmtBIvmrLbV"
      },
      "source": [
        "[(a * roman_dict[r]) for a, r in split_into(roman_dict.keys(), 2786) if a > 0]"
      ],
      "execution_count": null,
      "outputs": []
    },
    {
      "cell_type": "code",
      "metadata": {
        "id": "Ga-F0nVErPd2"
      },
      "source": [
        "''.join([(a * roman_dict[r]) for a, r in split_into(roman_dict.keys(), 2786) if a > 0])"
      ],
      "execution_count": null,
      "outputs": []
    },
    {
      "cell_type": "code",
      "metadata": {
        "id": "kQ8U5oXtrUA8"
      },
      "source": [
        "def arabic_to_roman(n: int) -> str:\n",
        "    return ''.join([(a * roman_dict[r]) for a, r in split_into(roman_dict.keys(), n)])"
      ],
      "execution_count": null,
      "outputs": []
    },
    {
      "cell_type": "code",
      "metadata": {
        "id": "E6jV4el5r3Gm"
      },
      "source": [
        "def split_into(units: [int], amount: int) -> [(int, int)]:\n",
        "    splits = []\n",
        "    for unit in sorted(units, reverse = True):\n",
        "        splits.append((amount // unit, unit))\n",
        "        amount %= unit\n",
        "    return splits"
      ],
      "execution_count": null,
      "outputs": []
    },
    {
      "cell_type": "code",
      "metadata": {
        "id": "SybuGw6DrrrA"
      },
      "source": [
        "romans = {'M': 1000, 'D': 500, 'C': 100, 'L': 50, 'X': 10, 'V': 5, 'I': 1}\n",
        "def standardise(roman: str) -> str:\n",
        "    return roman.replace('CM', 'DCCCC').replace('CD', 'CCCC').\\\n",
        "            replace('XC', 'LXXXX').replace('XL', 'XXXX').\\\n",
        "            replace('IX', 'VIIII').replace('IV', 'IIII')\n",
        "\n",
        "def r2a(roman: str) -> int:\n",
        "    return sum([romans[rc] for rc in standardise(roman)])"
      ],
      "execution_count": null,
      "outputs": []
    },
    {
      "cell_type": "markdown",
      "metadata": {
        "id": "hATWZfj4v2Qz"
      },
      "source": [
        "# Fig2words"
      ]
    },
    {
      "cell_type": "code",
      "metadata": {
        "id": "-gftghJw4zy6"
      },
      "source": [
        "def convert2digits(num: int) -> str:\n",
        "    upto19 = [\"\", \"One \", \"Two \", \"Three \", \"Four \", \"Five \", \"Six \", \"Seven \", \n",
        "              \"Eight \",\"Nine \", \"Ten \", \"Eleven \", \"Twelve \", \"Thirteen \", \"Fourteen \",\n",
        "              \"Fifteen \", \"Sixteen \", \"Seventeen \", \"Eighteen \", \"Ninteen \"]\n",
        "    tens = [\"\", \"\", \"Twenty \", \"Thirty \", \"Forty \", \"Fifty \", \"Sixty \",\n",
        "           \"Seventy \", \"Eighty \", \"Ninety \"]\n",
        "    if num < 20:\n",
        "        return upto19[num]\n",
        "    else:\n",
        "        return tens[num // 10] + upto19[num % 10]"
      ],
      "execution_count": null,
      "outputs": []
    },
    {
      "cell_type": "code",
      "metadata": {
        "id": "llepOQEP46XZ"
      },
      "source": [
        "def fig2words(style:dict, num: int) -> str:\n",
        "    splits = split_into(style.keys(), num)\n",
        "    print(splits)\n",
        "    xform_units = [(a, style[b]) for a, b in splits]\n",
        "    print(xform_units)\n",
        "    xform_values = [convert2digits(a) + b for a, b in xform_units if a > 0]\n",
        "    print(xform_values)\n",
        "    return ''.join(xform_values)"
      ],
      "execution_count": null,
      "outputs": []
    },
    {
      "cell_type": "code",
      "metadata": {
        "id": "AE2tPLQl5O9v"
      },
      "source": [
        "indian = {10**7: \"Crore \", 10**5: \"Lakh \", 1000: \"Thousand \", 100: \"Hundred \", 1:\"\"}"
      ],
      "execution_count": null,
      "outputs": []
    },
    {
      "cell_type": "code",
      "metadata": {
        "id": "ig0ygJsX5BMS"
      },
      "source": [
        "fig2words(indian, 127845)"
      ],
      "execution_count": null,
      "outputs": []
    },
    {
      "cell_type": "code",
      "metadata": {
        "id": "FU6DO6ih5J7R"
      },
      "source": [
        "def convert3digits(num: int) -> str:\n",
        "    if num < 100:\n",
        "        return convert2digits(num)\n",
        "    hs = num // 100\n",
        "    tu = num % 100\n",
        "    if tu > 0:\n",
        "        connect = \"Hundred And \"\n",
        "    else:\n",
        "        connect = \"Hundred \"\n",
        "    return convert2digits(hs) + connect + convert2digits(tu)"
      ],
      "execution_count": null,
      "outputs": []
    },
    {
      "cell_type": "code",
      "metadata": {
        "id": "ePzVAUv95UAn"
      },
      "source": [
        "INDIAN = {10**7: \"Crore \", 10**5: \"Lakh \", 1000: \"Thousand \", 1:\"\"}\n",
        "WESTERN = {10**9 : \"Billion \", 10**6: \"Million \", 1000: \"Thousand \", 1:\"\"}\n",
        "\n",
        "def fig2words(style:dict, num: int) -> str:\n",
        "    splits = split_into(style.keys(), num)\n",
        "    xform_units = [(a, style[b]) for a, b in splits]\n",
        "    xform_values = [convert3digits(a) + b for a, b in xform_units if a > 0]\n",
        "    return ''.join(xform_values)"
      ],
      "execution_count": null,
      "outputs": []
    },
    {
      "cell_type": "code",
      "metadata": {
        "id": "9Cn2sLb95Xs8"
      },
      "source": [
        "fig2words(INDIAN, 19085643)"
      ],
      "execution_count": null,
      "outputs": []
    },
    {
      "cell_type": "code",
      "metadata": {
        "id": "6Cp0PeUf5aqn"
      },
      "source": [
        "fig2words(WESTERN, 19085643)"
      ],
      "execution_count": null,
      "outputs": []
    },
    {
      "cell_type": "markdown",
      "metadata": {
        "id": "XZbVXPht5eM6"
      },
      "source": [
        "# Odometer"
      ]
    },
    {
      "cell_type": "code",
      "metadata": {
        "id": "wXAH3wPmErPD"
      },
      "source": [
        "def isAscending(n: int) -> bool:\n",
        "    if n < 10:\n",
        "        return True\n",
        "    if n % 10 <= (n // 10) % 10:\n",
        "        return False\n",
        "    return isAscending(n // 10)"
      ],
      "execution_count": null,
      "outputs": []
    },
    {
      "cell_type": "code",
      "metadata": {
        "id": "X_OzV9vjFFKH"
      },
      "source": [
        "def num2digits(n: int) -> [int]:\n",
        "    return [int(ch) for ch in str(n)]"
      ],
      "execution_count": null,
      "outputs": []
    },
    {
      "cell_type": "code",
      "metadata": {
        "id": "k7BgITg_FXwP"
      },
      "source": [
        "def is_ascending(n: int) -> bool:\n",
        "    ds = num2digits(n)\n",
        "    return all([a < b for a, b in zip(ds, ds[1:])])"
      ],
      "execution_count": null,
      "outputs": []
    },
    {
      "cell_type": "code",
      "metadata": {
        "id": "4yCR2-fAFvCE"
      },
      "source": [
        "ds = num2digits(1786)"
      ],
      "execution_count": null,
      "outputs": []
    },
    {
      "cell_type": "code",
      "metadata": {
        "id": "pn5uKphCFzNH"
      },
      "source": [
        "ds"
      ],
      "execution_count": null,
      "outputs": []
    },
    {
      "cell_type": "code",
      "metadata": {
        "id": "sjei4FqJF0B2"
      },
      "source": [
        "ds[1:]"
      ],
      "execution_count": null,
      "outputs": []
    },
    {
      "cell_type": "code",
      "metadata": {
        "id": "Aa0KubfcF1gd"
      },
      "source": [
        "list(zip(ds, ds[1:]))"
      ],
      "execution_count": null,
      "outputs": []
    },
    {
      "cell_type": "code",
      "metadata": {
        "id": "jZot9KxHF4D6"
      },
      "source": [
        "[a < b for a, b in zip(ds, ds[1:])]"
      ],
      "execution_count": null,
      "outputs": []
    },
    {
      "cell_type": "code",
      "metadata": {
        "id": "OHjpM3T-F-Bu"
      },
      "source": [
        "ds = num2digits(134689)"
      ],
      "execution_count": null,
      "outputs": []
    },
    {
      "cell_type": "code",
      "metadata": {
        "id": "jBHj1oKOGEl2"
      },
      "source": [
        "[a < b for a, b in zip(ds, ds[1:])]"
      ],
      "execution_count": null,
      "outputs": []
    },
    {
      "cell_type": "code",
      "metadata": {
        "id": "gmMRF2OcGGe4"
      },
      "source": [
        "def get_limits(n: int) -> (int, int):\n",
        "    DIGITS = \"123456789\"\n",
        "    size = len(str(n))\n",
        "    START = int(DIGITS[:size])\n",
        "    LIMIT = int(DIGITS[-size:])\n",
        "    return START, LIMIT"
      ],
      "execution_count": null,
      "outputs": []
    },
    {
      "cell_type": "code",
      "metadata": {
        "id": "yS8CyIvRHAGs"
      },
      "source": [
        "get_limits(1379)"
      ],
      "execution_count": null,
      "outputs": []
    },
    {
      "cell_type": "code",
      "metadata": {
        "id": "bHwDJSsuHCFU"
      },
      "source": [
        "def next_reading(n: int, steps = 1) -> int:\n",
        "    START, LIMIT = get_limits(n)\n",
        "    for step in range(steps):\n",
        "        if n == LIMIT:\n",
        "            n = START\n",
        "        else:\n",
        "            n += 1\n",
        "            while not is_ascending(n):\n",
        "                n += 1\n",
        "    return n"
      ],
      "execution_count": null,
      "outputs": []
    },
    {
      "cell_type": "code",
      "metadata": {
        "id": "iUXDALjaHjQ_"
      },
      "source": [
        "next_reading(137)"
      ],
      "execution_count": null,
      "outputs": []
    },
    {
      "cell_type": "code",
      "metadata": {
        "id": "hiVi6sYgHlsy"
      },
      "source": [
        "next_reading(139, 7)"
      ],
      "execution_count": null,
      "outputs": []
    },
    {
      "cell_type": "code",
      "metadata": {
        "id": "iIngtMhoHrvG"
      },
      "source": [
        "def prev_reading(n: int) -> int:\n",
        "    START, LIMIT = get_limits(n)\n",
        "    if n == START:\n",
        "        return LIMIT\n",
        "    n -= 1 \n",
        "    while not is_ascending(n):\n",
        "        n -= 1\n",
        "    return n"
      ],
      "execution_count": null,
      "outputs": []
    },
    {
      "cell_type": "code",
      "metadata": {
        "id": "KtY-DCd8Ifr7"
      },
      "source": [
        "def next_nth_reading(reading: int, step: int) -> int:\n",
        "    for i in range(step):\n",
        "        reading = next_reading(reading)\n",
        "    return reading\n"
      ],
      "execution_count": null,
      "outputs": []
    },
    {
      "cell_type": "code",
      "metadata": {
        "id": "N74iZd59JCfW"
      },
      "source": [
        "def difference(r1: int, r2: int) -> int:\n",
        "    steps = 0\n",
        "    while r1 != r2:\n",
        "        steps += 1\n",
        "        r1 = next_reading(r1)\n",
        "    return steps"
      ],
      "execution_count": null,
      "outputs": []
    },
    {
      "cell_type": "markdown",
      "metadata": {
        "id": "rYyOFgJKJf6O"
      },
      "source": [
        "# Classes and Objects"
      ]
    },
    {
      "cell_type": "code",
      "metadata": {
        "id": "1xbiFmFyTBzf"
      },
      "source": [
        "class Odometer:\n",
        "    def __init__(self, size: int):\n",
        "        self.SIZE = size\n",
        "        DIGITS = \"123456789\"\n",
        "        self.START = int(DIGITS[:size])\n",
        "        self.LIMIT = int(DIGITS[-size:])\n"
      ],
      "execution_count": null,
      "outputs": []
    },
    {
      "cell_type": "code",
      "metadata": {
        "id": "TQM912q-UfPK"
      },
      "source": [
        "a = Odometer(3)"
      ],
      "execution_count": null,
      "outputs": []
    },
    {
      "cell_type": "code",
      "metadata": {
        "id": "qjo2m3IiUlMj"
      },
      "source": [
        "a.START"
      ],
      "execution_count": null,
      "outputs": []
    },
    {
      "cell_type": "code",
      "metadata": {
        "id": "kBBFUUWxUtrV"
      },
      "source": [
        "a.LIMIT "
      ],
      "execution_count": null,
      "outputs": []
    },
    {
      "cell_type": "code",
      "metadata": {
        "id": "z3wwVV6MUvfx"
      },
      "source": [
        "a.SIZE"
      ],
      "execution_count": null,
      "outputs": []
    },
    {
      "cell_type": "code",
      "metadata": {
        "id": "Pbs3d_TpUwsC"
      },
      "source": [
        "def isAscending(n: int) -> bool:\n",
        "    if n < 10:\n",
        "        return True\n",
        "    if n % 10 <= (n // 10) % 10:\n",
        "        return False\n",
        "    return isAscending(n // 10)\n",
        "\n",
        "class Odometer:\n",
        "    def __init__(self):\n",
        "        self.SIZE = size\n",
        "        DIGITS = \"123456789\"\n",
        "        self.START = int(DIGITS[:size])\n",
        "        self.LIMIT = int(DIGITS[-size:])\n",
        "        self.reading = self.START\n",
        "    def __str__(self):\n",
        "        return str(self.reading)\n",
        "    def __repr__(self):\n",
        "        return str(self.START) + \" <<\" + str(self.reading) + \">> \" + str(self.LIMIT)\n",
        "    def next_reading(self):\n",
        "        if self.reading == self.LIMIT:\n",
        "            self.reading = self.START\n",
        "        else:\n",
        "            self.reading += 1\n",
        "            while not isAscending(self.reading):\n",
        "                self.reading += 1"
      ],
      "execution_count": null,
      "outputs": []
    },
    {
      "cell_type": "code",
      "metadata": {
        "id": "tC0C6KGTVLF4"
      },
      "source": [
        "a = Odometer(4)"
      ],
      "execution_count": null,
      "outputs": []
    },
    {
      "cell_type": "code",
      "metadata": {
        "id": "G6D0LOS7VPa_"
      },
      "source": [
        "print(a.reading)"
      ],
      "execution_count": null,
      "outputs": []
    },
    {
      "cell_type": "code",
      "metadata": {
        "id": "o_eEWuGXVRYQ"
      },
      "source": [
        "print(a)"
      ],
      "execution_count": null,
      "outputs": []
    },
    {
      "cell_type": "code",
      "metadata": {
        "id": "64ToGkgAVTwN"
      },
      "source": [
        "a.next_reading()"
      ],
      "execution_count": null,
      "outputs": []
    },
    {
      "cell_type": "code",
      "metadata": {
        "id": "Nh7anC9ZV4GJ"
      },
      "source": [
        "print(a)"
      ],
      "execution_count": null,
      "outputs": []
    },
    {
      "cell_type": "code",
      "metadata": {
        "id": "MgphggWrYOzO"
      },
      "source": [
        "b = Odometer(4)"
      ],
      "execution_count": null,
      "outputs": []
    },
    {
      "cell_type": "code",
      "metadata": {
        "id": "L7jz3CRoYcGi"
      },
      "source": [
        "print(b)"
      ],
      "execution_count": null,
      "outputs": []
    },
    {
      "cell_type": "code",
      "metadata": {
        "id": "q8jaSbBYYd3F"
      },
      "source": [
        "for i in range(10):\n",
        "    b.next_reading()"
      ],
      "execution_count": null,
      "outputs": []
    },
    {
      "cell_type": "code",
      "metadata": {
        "id": "pwHAIz-WYluR"
      },
      "source": [
        "print(b)"
      ],
      "execution_count": null,
      "outputs": []
    },
    {
      "cell_type": "code",
      "metadata": {
        "id": "cJwPNWjGYnGz"
      },
      "source": [
        "type(a)"
      ],
      "execution_count": null,
      "outputs": []
    },
    {
      "cell_type": "code",
      "metadata": {
        "id": "XRAkFBvJZG1c"
      },
      "source": [
        "c = Odometer()"
      ],
      "execution_count": null,
      "outputs": []
    },
    {
      "cell_type": "code",
      "metadata": {
        "id": "oQu6q_8eZ8qf"
      },
      "source": [
        "class Odometer:\n",
        "    def __init__(self, size):\n",
        "        self.SIZE = size\n",
        "        DIGITS = \"123456789\"\n",
        "        self.START = int(DIGITS[:size])\n",
        "        self.LIMIT = int(DIGITS[-size:])\n",
        "        self.reading = self.START\n",
        "    def __str__(self):\n",
        "        return str(self.reading)\n",
        "    def __repr__(self):\n",
        "        return str(self.START) + \" <<\" + str(self.reading) + \">> \" + str(self.LIMIT)\n",
        "    def isvalid(n: int) -> bool:\n",
        "        if n < 10:\n",
        "            return True\n",
        "        if n % 10 <= (n // 10) % 10:\n",
        "            return False\n",
        "        return Odometer.isvalid(n // 10)\n",
        "    def next_reading(self, steps=1):\n",
        "        for step in range(steps):\n",
        "            if self.reading == self.LIMIT:\n",
        "                self.reading = self.START\n",
        "            else:\n",
        "                self.reading += 1\n",
        "                while not Odometer.isvalid(self.reading):\n",
        "                    self.reading += 1\n",
        "    def prev_reading(self, steps=1):\n",
        "        for step in range(steps):\n",
        "            if self.reading == self.START:\n",
        "                self.reading = self.LIMIT\n",
        "            else:\n",
        "                self.reading -= 1\n",
        "                while not Odometer.isvalid(self.reading):\n",
        "                    self.reading -= 1\n",
        "    \n",
        "    def difference(self, other):\n",
        "        if self.SIZE != other.SIZE:\n",
        "            return -1\n",
        "        twin = Odometer(self.SIZE)\n",
        "        twin.reading = self.reading\n",
        "        steps = 0\n",
        "        while twin.reading != other.reading:\n",
        "            twin.next_reading()\n",
        "            steps += 1\n",
        "        return steps"
      ],
      "execution_count": null,
      "outputs": []
    },
    {
      "cell_type": "code",
      "metadata": {
        "id": "TeIR_9sJlSCZ"
      },
      "source": [
        "a = Odometer(5)"
      ],
      "execution_count": null,
      "outputs": []
    },
    {
      "cell_type": "code",
      "metadata": {
        "id": "SfK5IUAkldO8"
      },
      "source": [
        "a.next_reading()"
      ],
      "execution_count": null,
      "outputs": []
    },
    {
      "cell_type": "code",
      "metadata": {
        "id": "69EgmxvQlk1a"
      },
      "source": [
        "a"
      ],
      "execution_count": null,
      "outputs": []
    },
    {
      "cell_type": "code",
      "metadata": {
        "id": "KEtFdgxqllYG"
      },
      "source": [
        "a.next_reading(7)"
      ],
      "execution_count": null,
      "outputs": []
    },
    {
      "cell_type": "code",
      "metadata": {
        "id": "IVpDbB-9l_M9"
      },
      "source": [
        "a"
      ],
      "execution_count": null,
      "outputs": []
    },
    {
      "cell_type": "code",
      "metadata": {
        "id": "nNfRjnOol_2C"
      },
      "source": [
        "a.prev_reading(10)"
      ],
      "execution_count": null,
      "outputs": []
    },
    {
      "cell_type": "code",
      "metadata": {
        "id": "cgwvvwnZorag"
      },
      "source": [
        "a"
      ],
      "execution_count": null,
      "outputs": []
    },
    {
      "cell_type": "code",
      "metadata": {
        "id": "dM4s7kwuowS1"
      },
      "source": [
        "print?"
      ],
      "execution_count": null,
      "outputs": []
    },
    {
      "cell_type": "code",
      "metadata": {
        "id": "B--DinjrpkqE"
      },
      "source": [
        "print(7, 8, end=\",\", sep=\":\" )"
      ],
      "execution_count": null,
      "outputs": []
    },
    {
      "cell_type": "code",
      "metadata": {
        "id": "c5vcF3o2pyrd"
      },
      "source": [
        "print(7, 8)"
      ],
      "execution_count": null,
      "outputs": []
    },
    {
      "cell_type": "code",
      "metadata": {
        "id": "uqXKoe91p5U4"
      },
      "source": [
        "print(7, 8, sep=\"+\")"
      ],
      "execution_count": null,
      "outputs": []
    },
    {
      "cell_type": "code",
      "metadata": {
        "id": "qAkwIQ-8p8sc"
      },
      "source": [
        "print(6, 7, sep=\";\", 8)"
      ],
      "execution_count": null,
      "outputs": []
    },
    {
      "cell_type": "code",
      "metadata": {
        "id": "i3LEY_G7qIjV"
      },
      "source": [
        "type(a)"
      ],
      "execution_count": null,
      "outputs": []
    },
    {
      "cell_type": "code",
      "metadata": {
        "id": "GJ7q-8c5zicQ"
      },
      "source": [
        "a.price = 10000"
      ],
      "execution_count": null,
      "outputs": []
    },
    {
      "cell_type": "code",
      "metadata": {
        "id": "yhXfBqzZzkxb"
      },
      "source": [
        "b = Odometer(5)"
      ],
      "execution_count": null,
      "outputs": []
    },
    {
      "cell_type": "code",
      "metadata": {
        "id": "xV997VmLzu7w"
      },
      "source": [
        "type(a)"
      ],
      "execution_count": null,
      "outputs": []
    },
    {
      "cell_type": "markdown",
      "metadata": {
        "id": "cUseL1Irz82A"
      },
      "source": [
        "Arguments"
      ]
    },
    {
      "cell_type": "code",
      "metadata": {
        "id": "No0Ad6pc6cQx"
      },
      "source": [
        "def prod2(a, b):\n",
        "    return a * b"
      ],
      "execution_count": null,
      "outputs": []
    },
    {
      "cell_type": "code",
      "metadata": {
        "id": "MLs9-rLD6hJR"
      },
      "source": [
        "def prodm1(a: list):\n",
        "    ans = 1\n",
        "    for x in a:\n",
        "        ans *= x\n",
        "    return ans"
      ],
      "execution_count": null,
      "outputs": []
    },
    {
      "cell_type": "code",
      "metadata": {
        "id": "tMQbnzX560SU"
      },
      "source": [
        "def prodm2(*args):\n",
        "    ans = 1\n",
        "    for x in args:\n",
        "        ans *= x\n",
        "    return ans"
      ],
      "execution_count": null,
      "outputs": []
    },
    {
      "cell_type": "code",
      "metadata": {
        "id": "ejLSNuo77JqS"
      },
      "source": [
        "prodm1(7, 3, 5)"
      ],
      "execution_count": null,
      "outputs": []
    },
    {
      "cell_type": "code",
      "metadata": {
        "id": "WcDKfcbb7ik-"
      },
      "source": [
        "prodm2(7, 3, 5)"
      ],
      "execution_count": null,
      "outputs": []
    },
    {
      "cell_type": "code",
      "metadata": {
        "id": "OMKvX4r57lgw"
      },
      "source": [
        "prodm1(8, 6, 7, 7)"
      ],
      "execution_count": null,
      "outputs": []
    },
    {
      "cell_type": "code",
      "metadata": {
        "id": "Q9RMQsvW71Ko"
      },
      "source": [
        "prodm2(8, 6, 7, 7)"
      ],
      "execution_count": null,
      "outputs": []
    },
    {
      "cell_type": "code",
      "metadata": {
        "id": "cg3b1RXv76gC"
      },
      "source": [
        "s = \"Long long ago, in a galaxy far far away\""
      ],
      "execution_count": null,
      "outputs": []
    },
    {
      "cell_type": "code",
      "metadata": {
        "id": "eQt8vGgo8hvS"
      },
      "source": [
        "s.split()"
      ],
      "execution_count": null,
      "outputs": []
    },
    {
      "cell_type": "code",
      "metadata": {
        "id": "CZu50spM8jSn"
      },
      "source": [
        "t = s.split()"
      ],
      "execution_count": null,
      "outputs": []
    },
    {
      "cell_type": "code",
      "metadata": {
        "id": "U9E3kk5l8lWt"
      },
      "source": [
        "t"
      ],
      "execution_count": null,
      "outputs": []
    },
    {
      "cell_type": "code",
      "metadata": {
        "id": "Ef7-vDt48l-_"
      },
      "source": [
        "a, t = s.split()"
      ],
      "execution_count": null,
      "outputs": []
    },
    {
      "cell_type": "code",
      "metadata": {
        "id": "iKN5StqE8uKp"
      },
      "source": [
        "a, *t = s.split()"
      ],
      "execution_count": null,
      "outputs": []
    },
    {
      "cell_type": "code",
      "metadata": {
        "id": "78yDaux68zRF"
      },
      "source": [
        "a"
      ],
      "execution_count": null,
      "outputs": []
    },
    {
      "cell_type": "code",
      "metadata": {
        "id": "O-2BHYkw8z2f"
      },
      "source": [
        "t"
      ],
      "execution_count": null,
      "outputs": []
    },
    {
      "cell_type": "code",
      "metadata": {
        "id": "yqBl6w3U80g_"
      },
      "source": [
        "α, *β, γ = s.split()"
      ],
      "execution_count": null,
      "outputs": []
    },
    {
      "cell_type": "code",
      "metadata": {
        "id": "B_A9NA209FbX"
      },
      "source": [
        "print(α, γ)"
      ],
      "execution_count": null,
      "outputs": []
    },
    {
      "cell_type": "code",
      "metadata": {
        "id": "eSZwNHow9KEb"
      },
      "source": [
        "print(β)"
      ],
      "execution_count": null,
      "outputs": []
    },
    {
      "cell_type": "code",
      "metadata": {
        "id": "Kpp02lnw9N_q"
      },
      "source": [
        "def multi(a, *b, sep=\" \"):\n",
        "    print(\"First\", a)\n",
        "    print(len(b), \"Splats\")\n",
        "    print(\"sep is\", sep)"
      ],
      "execution_count": null,
      "outputs": []
    },
    {
      "cell_type": "code",
      "metadata": {
        "id": "kSsNKi6t-XIM"
      },
      "source": [
        "multi(1, 2, 3, 4, sep=\"*\")"
      ],
      "execution_count": null,
      "outputs": []
    },
    {
      "cell_type": "code",
      "metadata": {
        "id": "RgSRFer0-bYY"
      },
      "source": [
        "def multi(a, *b, c):\n",
        "    print(a, b, c)"
      ],
      "execution_count": null,
      "outputs": []
    },
    {
      "cell_type": "code",
      "metadata": {
        "id": "VJfIGjY7-j0E"
      },
      "source": [
        "multi(1, 2, 3, 4, c = 7)"
      ],
      "execution_count": null,
      "outputs": []
    },
    {
      "cell_type": "code",
      "metadata": {
        "id": "3Ifvrbtc-mmG"
      },
      "source": [
        "def bulti(a, *b, sep=\" \"):\n",
        "    print(\"First\", a)\n",
        "    print(len(b), \"Splats\")\n",
        "    print(\"sep is\", sep)"
      ],
      "execution_count": null,
      "outputs": []
    },
    {
      "cell_type": "code",
      "metadata": {
        "id": "w5Zswkgr_ChF"
      },
      "source": [
        "bulti(1, 2, 3, 4, end=\"*\")"
      ],
      "execution_count": null,
      "outputs": []
    },
    {
      "cell_type": "code",
      "metadata": {
        "id": "IFvEod-1_GaV"
      },
      "source": [
        "print?"
      ],
      "execution_count": null,
      "outputs": []
    },
    {
      "cell_type": "code",
      "metadata": {
        "id": "m8IGPHXH_OIO"
      },
      "source": [
        "def dsplat(a, **kwargs):\n",
        "    print(a)\n",
        "    for kk in kwargs:\n",
        "        print(kk, kwargs[kk])\n",
        "\n"
      ],
      "execution_count": null,
      "outputs": []
    },
    {
      "cell_type": "code",
      "metadata": {
        "id": "ugI4HyC6_51x"
      },
      "source": [
        "dsplat(7, end=\"Gone\", start=\"vroom\", asokan=\"name\")"
      ],
      "execution_count": null,
      "outputs": []
    },
    {
      "cell_type": "code",
      "metadata": {
        "id": "cMcWZMXwAEcy"
      },
      "source": [
        ""
      ],
      "execution_count": null,
      "outputs": []
    }
  ]
}