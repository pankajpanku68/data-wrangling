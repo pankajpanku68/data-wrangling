{
 "cells": [
  {
   "cell_type": "markdown",
   "metadata": {
    "id": "AQm8kemkflHf"
   },
   "source": [
    "# Project Euler Problem #1\n",
    "If we list all the natural numbers below 10 that are multiples of 3 or 5, we get 3, 5, 6 and 9. The sum of these multiples is 23.\n",
    "\n",
    "Find the sum of all the multiples of 3 or 5 below 1000.\n"
   ]
  },
  {
   "cell_type": "code",
   "execution_count": null,
   "metadata": {
    "id": "xlNvYza8gY86"
   },
   "outputs": [],
   "source": [
    "LIMIT = 1000"
   ]
  },
  {
   "cell_type": "code",
   "execution_count": null,
   "metadata": {
    "id": "yCt89UC6hyId"
   },
   "outputs": [],
   "source": [
    "n, total = 1, 0\n",
    "while n < LIMIT:\n",
    "    if n % 3 == 0 or n % 5 == 0:\n",
    "        total += n\n",
    "    n += 1\n",
    "print(total)"
   ]
  },
  {
   "cell_type": "code",
   "execution_count": null,
   "metadata": {
    "id": "MkhdB-cuiFsn"
   },
   "outputs": [],
   "source": [
    "def pick(n: int) -> bool:\n",
    "    return n % 3 == 0 or n % 5 == 0"
   ]
  },
  {
   "cell_type": "code",
   "execution_count": null,
   "metadata": {
    "id": "MfzCyP0SjHpj"
   },
   "outputs": [],
   "source": [
    "n, total = 1, 0\n",
    "while n < LIMIT:\n",
    "    if pick(n):\n",
    "        total += n\n",
    "    n += 1\n",
    "print(total)"
   ]
  },
  {
   "cell_type": "code",
   "execution_count": null,
   "metadata": {
    "id": "Rlbub9uujM1j"
   },
   "outputs": [],
   "source": [
    "a = pick(7.5)"
   ]
  },
  {
   "cell_type": "code",
   "execution_count": null,
   "metadata": {
    "id": "IQ241-JYjhte"
   },
   "outputs": [],
   "source": [
    "range(10)"
   ]
  },
  {
   "cell_type": "code",
   "execution_count": null,
   "metadata": {
    "id": "JhJpKWNhlVDl"
   },
   "outputs": [],
   "source": [
    "range?"
   ]
  },
  {
   "cell_type": "code",
   "execution_count": null,
   "metadata": {
    "id": "JiuAogZmlbu5"
   },
   "outputs": [],
   "source": [
    "list(range(10))"
   ]
  },
  {
   "cell_type": "code",
   "execution_count": null,
   "metadata": {
    "id": "snZi-sG1lqmc"
   },
   "outputs": [],
   "source": [
    "list(range(3, 18))"
   ]
  },
  {
   "cell_type": "code",
   "execution_count": null,
   "metadata": {
    "id": "X06IYuVklzma"
   },
   "outputs": [],
   "source": [
    "list(range(5, 67, 6))"
   ]
  },
  {
   "cell_type": "code",
   "execution_count": null,
   "metadata": {
    "id": "7wDhmcQ_l5Qt"
   },
   "outputs": [],
   "source": [
    "total = 0\n",
    "for n in range(1, LIMIT):\n",
    "    if n % 3 == 0 or n % 5 == 0:\n",
    "        total += n\n",
    "print(total)"
   ]
  },
  {
   "cell_type": "code",
   "execution_count": null,
   "metadata": {
    "id": "CyEPb-zJn6Bp"
   },
   "outputs": [],
   "source": [
    "total = 0\n",
    "for n in range(1, LIMIT):\n",
    "    if pick(n):\n",
    "        total += n\n",
    "print(total)"
   ]
  },
  {
   "cell_type": "code",
   "execution_count": null,
   "metadata": {
    "id": "CKGAMgOloKU6"
   },
   "outputs": [],
   "source": [
    "sum([1, 7, 9, -2])"
   ]
  },
  {
   "cell_type": "code",
   "execution_count": null,
   "metadata": {
    "id": "v0HAILDUok29"
   },
   "outputs": [],
   "source": [
    "euler1 = sum(range(3, LIMIT, 3)) + sum(range(5, LIMIT, 5)) - sum(range(15, LIMIT, 15))\n",
    "print(euler1)"
   ]
  },
  {
   "cell_type": "code",
   "execution_count": null,
   "metadata": {
    "id": "SnzPml4To2yD"
   },
   "outputs": [],
   "source": [
    "euler1 = sum(set(range(3, LIMIT, 3)) | set(range(5, LIMIT, 5)))\n",
    "print(euler1)"
   ]
  },
  {
   "cell_type": "code",
   "execution_count": null,
   "metadata": {
    "id": "VAyIilKgp1RH"
   },
   "outputs": [],
   "source": [
    "!python --version"
   ]
  },
  {
   "cell_type": "code",
   "execution_count": null,
   "metadata": {
    "id": "tckhTUMTrNY-"
   },
   "outputs": [],
   "source": [
    "pick(4)"
   ]
  },
  {
   "cell_type": "code",
   "execution_count": null,
   "metadata": {
    "id": "_C9xpPXbtknQ"
   },
   "outputs": [],
   "source": [
    "pick(6)"
   ]
  },
  {
   "cell_type": "code",
   "execution_count": null,
   "metadata": {
    "id": "2MH7FkAUtl7z"
   },
   "outputs": [],
   "source": [
    "sum(filter(pick, range(1, LIMIT)))"
   ]
  },
  {
   "cell_type": "code",
   "execution_count": null,
   "metadata": {
    "id": "e7mWvbzitsqs"
   },
   "outputs": [],
   "source": [
    "filter?"
   ]
  },
  {
   "cell_type": "code",
   "execution_count": null,
   "metadata": {
    "id": "yaAAhh28t2W9"
   },
   "outputs": [],
   "source": [
    "sum([x for x in range(1, LIMIT) if pick(x)])"
   ]
  },
  {
   "cell_type": "code",
   "execution_count": null,
   "metadata": {
    "id": "5xYusB3rv_4_"
   },
   "outputs": [],
   "source": [
    "[p for p in range(1, 50) if pick(p)]"
   ]
  },
  {
   "cell_type": "code",
   "execution_count": null,
   "metadata": {
    "id": "dezc31FawoWi"
   },
   "outputs": [],
   "source": [
    "#pp = [p for p in range(1, 50) if pick(p)]\n",
    "\n",
    "pp = []\n",
    "for i in range(1, LIMIT):\n",
    "    if pick(i):\n",
    "        pp.append(i)\n",
    "sum(pp)"
   ]
  },
  {
   "cell_type": "markdown",
   "metadata": {
    "id": "KJRJeagrxiUi"
   },
   "source": [
    "# Lists\n",
    "\n",
    "* heterogenous data structure\n",
    "* extensively used\n",
    "* Built-in"
   ]
  },
  {
   "cell_type": "code",
   "execution_count": null,
   "metadata": {
    "id": "H9VuSLyDx-mZ"
   },
   "outputs": [],
   "source": [
    "f = [0, 1, 1, 2, 3, 5, 8]"
   ]
  },
  {
   "cell_type": "code",
   "execution_count": null,
   "metadata": {
    "id": "ve0UsTxoyHpX"
   },
   "outputs": [],
   "source": [
    "p = [2, 3, 5, 7]"
   ]
  },
  {
   "cell_type": "code",
   "execution_count": null,
   "metadata": {
    "id": "6IW7IDj7yJ2L"
   },
   "outputs": [],
   "source": [
    "countries = [\"UK\", \"USA\", \"France\"]"
   ]
  },
  {
   "cell_type": "code",
   "execution_count": null,
   "metadata": {
    "id": "bNA6z4F3yN5V"
   },
   "outputs": [],
   "source": [
    "smorg = [\"Hello\", 1, True, [\"in\", \"out\"]]"
   ]
  },
  {
   "cell_type": "code",
   "execution_count": null,
   "metadata": {
    "id": "YfzJcECHyT4K"
   },
   "outputs": [],
   "source": [
    "smorg2 = [\"Yes\", countries]"
   ]
  },
  {
   "cell_type": "code",
   "execution_count": null,
   "metadata": {
    "id": "CoIw5GOBzKHa"
   },
   "outputs": [],
   "source": [
    "print(smorg2)"
   ]
  },
  {
   "cell_type": "code",
   "execution_count": null,
   "metadata": {
    "id": "f2YOneSrzLiM"
   },
   "outputs": [],
   "source": [
    "p"
   ]
  },
  {
   "cell_type": "code",
   "execution_count": null,
   "metadata": {
    "id": "rEyHAI1ZzY5Q"
   },
   "outputs": [],
   "source": [
    "p[0]"
   ]
  },
  {
   "cell_type": "code",
   "execution_count": null,
   "metadata": {
    "id": "4EvCvH4yzdDS"
   },
   "outputs": [],
   "source": [
    "p[1]"
   ]
  },
  {
   "cell_type": "code",
   "execution_count": null,
   "metadata": {
    "id": "meVM6ELZzfQ1"
   },
   "outputs": [],
   "source": [
    "smorg2[0]"
   ]
  },
  {
   "cell_type": "code",
   "execution_count": null,
   "metadata": {
    "id": "uIMaIqFJ0BIZ"
   },
   "outputs": [],
   "source": [
    "smorg2[1]"
   ]
  },
  {
   "cell_type": "code",
   "execution_count": null,
   "metadata": {
    "id": "MUhfGKkV0Cer"
   },
   "outputs": [],
   "source": [
    "smorg2[1][1]"
   ]
  },
  {
   "cell_type": "code",
   "execution_count": null,
   "metadata": {
    "id": "HQ_z4jaj0E1r"
   },
   "outputs": [],
   "source": [
    "smorg2[0][1]"
   ]
  },
  {
   "cell_type": "code",
   "execution_count": null,
   "metadata": {
    "id": "vI1oUTxQ0HkA"
   },
   "outputs": [],
   "source": [
    "smorg2"
   ]
  },
  {
   "cell_type": "code",
   "execution_count": null,
   "metadata": {
    "id": "CdjZXktH0RJm"
   },
   "outputs": [],
   "source": [
    "smorg3 = [8, countries]"
   ]
  },
  {
   "cell_type": "code",
   "execution_count": null,
   "metadata": {
    "id": "nD91vM1_0X6q"
   },
   "outputs": [],
   "source": [
    "smorg3[1][1]"
   ]
  },
  {
   "cell_type": "code",
   "execution_count": null,
   "metadata": {
    "id": "QPrsSuEb0alZ"
   },
   "outputs": [],
   "source": [
    "smorg3[0]"
   ]
  },
  {
   "cell_type": "code",
   "execution_count": null,
   "metadata": {
    "id": "D2QI7Jo60bxZ"
   },
   "outputs": [],
   "source": [
    "smorg3[1]"
   ]
  },
  {
   "cell_type": "code",
   "execution_count": null,
   "metadata": {
    "id": "EqTr0W7B0c2W"
   },
   "outputs": [],
   "source": [
    "smorg3[0][1]"
   ]
  },
  {
   "cell_type": "code",
   "execution_count": null,
   "metadata": {
    "id": "2RM3N_t40if1"
   },
   "outputs": [],
   "source": [
    "a20 = [0] * 20 "
   ]
  },
  {
   "cell_type": "code",
   "execution_count": null,
   "metadata": {
    "id": "1DlX1II21tev"
   },
   "outputs": [],
   "source": [
    "print(a20)"
   ]
  },
  {
   "cell_type": "markdown",
   "metadata": {
    "id": "lP4EB5Rz3FPb"
   },
   "source": [
    "# Primes"
   ]
  },
  {
   "cell_type": "code",
   "execution_count": null,
   "metadata": {
    "id": "1_qhaABg-Vbz"
   },
   "outputs": [],
   "source": [
    "def is_prime(n: int) -> bool:\n",
    "    if n < 2:\n",
    "        return False\n",
    "    if n in [2, 3]:  \n",
    "        return True\n",
    "    if n % 2 == 0:\n",
    "        return False\n",
    "    factor = 3\n",
    "    while factor * factor <= n:\n",
    "        if n % factor == 0:\n",
    "            return False\n",
    "        factor += 2\n",
    "    return True"
   ]
  },
  {
   "cell_type": "code",
   "execution_count": null,
   "metadata": {
    "id": "ubpwgpUo_tBs"
   },
   "outputs": [],
   "source": [
    "is_prime(13)"
   ]
  },
  {
   "cell_type": "markdown",
   "metadata": {
    "id": "ZnaP0gBBEN-q"
   },
   "source": [
    "# Lists"
   ]
  },
  {
   "cell_type": "code",
   "execution_count": null,
   "metadata": {
    "id": "J2K7UqH-ERSQ"
   },
   "outputs": [],
   "source": [
    "p = [2, 3, 5, 7, 11]"
   ]
  },
  {
   "cell_type": "code",
   "execution_count": null,
   "metadata": {
    "id": "M-_D9utUEUaQ"
   },
   "outputs": [],
   "source": [
    "p[-1]"
   ]
  },
  {
   "cell_type": "code",
   "execution_count": null,
   "metadata": {
    "id": "ZRhzkSKGEY1H"
   },
   "outputs": [],
   "source": [
    "p[-2]"
   ]
  },
  {
   "cell_type": "code",
   "execution_count": null,
   "metadata": {
    "id": "hh8Pk8dLEhft"
   },
   "outputs": [],
   "source": [
    "p.append(13)"
   ]
  },
  {
   "cell_type": "code",
   "execution_count": null,
   "metadata": {
    "id": "Y3r13UZREzua"
   },
   "outputs": [],
   "source": [
    "p"
   ]
  },
  {
   "cell_type": "code",
   "execution_count": null,
   "metadata": {
    "id": "oMWCX5t-E0Wg"
   },
   "outputs": [],
   "source": [
    "p.append(17)"
   ]
  },
  {
   "cell_type": "code",
   "execution_count": null,
   "metadata": {
    "id": "oxKVoXhhE4Wy"
   },
   "outputs": [],
   "source": [
    "p"
   ]
  },
  {
   "cell_type": "code",
   "execution_count": null,
   "metadata": {
    "id": "0BRfwUwQE42s"
   },
   "outputs": [],
   "source": [
    "def digits(n: int) -> [int]:\n",
    "    ds = []\n",
    "    while n > 0:\n",
    "        ds.append(n % 10)\n",
    "        n //= 10 # => n = n // 10\n",
    "    return ds"
   ]
  },
  {
   "cell_type": "code",
   "execution_count": null,
   "metadata": {
    "id": "foN3wrBaFT2E"
   },
   "outputs": [],
   "source": [
    "digits(145)"
   ]
  },
  {
   "cell_type": "code",
   "execution_count": null,
   "metadata": {
    "id": "EbLs2F36FX4e"
   },
   "outputs": [],
   "source": [
    "7/2"
   ]
  },
  {
   "cell_type": "code",
   "execution_count": null,
   "metadata": {
    "id": "1XeYU8X0Fnxg"
   },
   "outputs": [],
   "source": [
    "7//2"
   ]
  },
  {
   "cell_type": "code",
   "execution_count": null,
   "metadata": {
    "id": "Q7xtkBR0Fowa"
   },
   "outputs": [],
   "source": [
    "def num2digits(n: int) -> [int]:\n",
    "    ds = []\n",
    "    while n > 0:\n",
    "        ds.insert(0, n % 10)\n",
    "        n //= 10 # => n = n // 10\n",
    "    return ds"
   ]
  },
  {
   "cell_type": "code",
   "execution_count": null,
   "metadata": {
    "id": "quMYHVLgGJ4x"
   },
   "outputs": [],
   "source": [
    "num2digits(167)"
   ]
  },
  {
   "cell_type": "code",
   "execution_count": null,
   "metadata": {
    "id": "w4NGd99FGL3R"
   },
   "outputs": [],
   "source": [
    "p"
   ]
  },
  {
   "cell_type": "code",
   "execution_count": null,
   "metadata": {
    "id": "v437YJPjGfsN"
   },
   "outputs": [],
   "source": [
    "q = [2, 3, 5, 7, 11, 13, 17]"
   ]
  },
  {
   "cell_type": "code",
   "execution_count": null,
   "metadata": {
    "id": "_OZNXZFaGlLN"
   },
   "outputs": [],
   "source": [
    "q.reverse()"
   ]
  },
  {
   "cell_type": "code",
   "execution_count": null,
   "metadata": {
    "id": "mRZJmLOeGmxd"
   },
   "outputs": [],
   "source": [
    "q"
   ]
  },
  {
   "cell_type": "code",
   "execution_count": null,
   "metadata": {
    "id": "Gsj9APX7GnWS"
   },
   "outputs": [],
   "source": [
    "sum(num2digits(18976))"
   ]
  },
  {
   "cell_type": "code",
   "execution_count": null,
   "metadata": {
    "id": "X8LFmSn9G7V1"
   },
   "outputs": [],
   "source": [
    "len(q)"
   ]
  },
  {
   "cell_type": "code",
   "execution_count": null,
   "metadata": {
    "id": "ISBNlVIiG97l"
   },
   "outputs": [],
   "source": [
    "min(q)"
   ]
  },
  {
   "cell_type": "code",
   "execution_count": null,
   "metadata": {
    "id": "xNw-NFFUHAmb"
   },
   "outputs": [],
   "source": [
    "max(q)"
   ]
  },
  {
   "cell_type": "code",
   "execution_count": null,
   "metadata": {
    "id": "f_8a91CEHBzb"
   },
   "outputs": [],
   "source": [
    "p"
   ]
  },
  {
   "cell_type": "code",
   "execution_count": null,
   "metadata": {
    "id": "j5DNp9fhHT0A"
   },
   "outputs": [],
   "source": [
    "p.append([19, 23, 29, 31])"
   ]
  },
  {
   "cell_type": "code",
   "execution_count": null,
   "metadata": {
    "id": "9j5Y0uMmHX5Z"
   },
   "outputs": [],
   "source": [
    "len(p)"
   ]
  },
  {
   "cell_type": "code",
   "execution_count": null,
   "metadata": {
    "id": "ZRzQeQ67Hlkh"
   },
   "outputs": [],
   "source": [
    "print(p)"
   ]
  },
  {
   "cell_type": "code",
   "execution_count": null,
   "metadata": {
    "id": "kKYI7yWcHnsn"
   },
   "outputs": [],
   "source": [
    "q"
   ]
  },
  {
   "cell_type": "code",
   "execution_count": null,
   "metadata": {
    "id": "DXs-Slk-HsSt"
   },
   "outputs": [],
   "source": [
    "q.extend([19, 23, 29, 31])"
   ]
  },
  {
   "cell_type": "code",
   "execution_count": null,
   "metadata": {
    "id": "6IgPgmdcHzBq"
   },
   "outputs": [],
   "source": [
    "len(q)"
   ]
  },
  {
   "cell_type": "code",
   "execution_count": null,
   "metadata": {
    "id": "O-FuJOHfH0Z9"
   },
   "outputs": [],
   "source": [
    "q"
   ]
  },
  {
   "cell_type": "code",
   "execution_count": null,
   "metadata": {
    "id": "MMm3F40qH1Ne"
   },
   "outputs": [],
   "source": [
    "q.extend(7)"
   ]
  },
  {
   "cell_type": "code",
   "execution_count": null,
   "metadata": {
    "id": "P4OpMYR-IVLM"
   },
   "outputs": [],
   "source": [
    "q.extend(19, 31)"
   ]
  },
  {
   "cell_type": "code",
   "execution_count": null,
   "metadata": {
    "id": "yA5sxG2GIfXF"
   },
   "outputs": [],
   "source": [
    "q"
   ]
  },
  {
   "cell_type": "code",
   "execution_count": null,
   "metadata": {
    "id": "HntvbKDxIuav"
   },
   "outputs": [],
   "source": [
    "q.sort()"
   ]
  },
  {
   "cell_type": "code",
   "execution_count": null,
   "metadata": {
    "id": "508_NEeoIxL5"
   },
   "outputs": [],
   "source": [
    "q"
   ]
  },
  {
   "cell_type": "code",
   "execution_count": null,
   "metadata": {
    "id": "mYPtEpfmIx35"
   },
   "outputs": [],
   "source": [
    "qq = [17, 13, 11, 7, 5, 3, 2, 19, 23, 29, 31]\n",
    "pq = qq.sort()"
   ]
  },
  {
   "cell_type": "code",
   "execution_count": null,
   "metadata": {
    "id": "fkTWntXkJJ3Q"
   },
   "outputs": [],
   "source": [
    "pq"
   ]
  },
  {
   "cell_type": "code",
   "execution_count": null,
   "metadata": {
    "id": "_RL0iucAJMNy"
   },
   "outputs": [],
   "source": [
    "qq"
   ]
  },
  {
   "cell_type": "code",
   "execution_count": null,
   "metadata": {
    "id": "eY_x1OXAJPxA"
   },
   "outputs": [],
   "source": [
    "qq = qq.sort()"
   ]
  },
  {
   "cell_type": "code",
   "execution_count": null,
   "metadata": {
    "id": "C947_wISJUts"
   },
   "outputs": [],
   "source": [
    "qq"
   ]
  },
  {
   "cell_type": "code",
   "execution_count": null,
   "metadata": {
    "id": "Ya_hoOACJVhc"
   },
   "outputs": [],
   "source": [
    "q1 = [17, 13, 11, 7, 5, 3, 2, 19, 23, 29, 31]"
   ]
  },
  {
   "cell_type": "code",
   "execution_count": null,
   "metadata": {
    "id": "WxGmv6kyJqZz"
   },
   "outputs": [],
   "source": [
    "p1 = q1"
   ]
  },
  {
   "cell_type": "code",
   "execution_count": null,
   "metadata": {
    "id": "Nkrtax3_JsD2"
   },
   "outputs": [],
   "source": [
    "p1"
   ]
  },
  {
   "cell_type": "code",
   "execution_count": null,
   "metadata": {
    "id": "lirNAzZ0Junj"
   },
   "outputs": [],
   "source": [
    "sp = sorted(p1)\n",
    "print(sp)\n",
    "print(p1)"
   ]
  },
  {
   "cell_type": "code",
   "execution_count": null,
   "metadata": {
    "id": "Umc7DH3aJ0nP"
   },
   "outputs": [],
   "source": [
    "pr = reversed(p1)"
   ]
  },
  {
   "cell_type": "code",
   "execution_count": null,
   "metadata": {
    "id": "cOAYMKcJKEij"
   },
   "outputs": [],
   "source": [
    "print(pr)"
   ]
  },
  {
   "cell_type": "code",
   "execution_count": null,
   "metadata": {
    "id": "HA-VelW0KF7j"
   },
   "outputs": [],
   "source": [
    "print(list(pr))"
   ]
  },
  {
   "cell_type": "code",
   "execution_count": null,
   "metadata": {
    "id": "EYkwXR3MKIZz"
   },
   "outputs": [],
   "source": [
    "p1"
   ]
  },
  {
   "cell_type": "code",
   "execution_count": null,
   "metadata": {
    "id": "AX65f435KJpS"
   },
   "outputs": [],
   "source": [
    "sorted?"
   ]
  },
  {
   "cell_type": "code",
   "execution_count": null,
   "metadata": {
    "id": "hWR30eEwLWQE"
   },
   "outputs": [],
   "source": [
    "nodes = [[0, 7], [1, 6], [2, -2], [3, 8], [4, 7]]"
   ]
  },
  {
   "cell_type": "code",
   "execution_count": null,
   "metadata": {
    "id": "tp0TFRsvLmfI"
   },
   "outputs": [],
   "source": [
    "sorted(nodes)"
   ]
  },
  {
   "cell_type": "code",
   "execution_count": null,
   "metadata": {
    "id": "3P86YdR_LpsS"
   },
   "outputs": [],
   "source": [
    "def second(x):\n",
    "    return x[1]"
   ]
  },
  {
   "cell_type": "code",
   "execution_count": null,
   "metadata": {
    "id": "XsPZROA-L3aM"
   },
   "outputs": [],
   "source": [
    "second([2, 7])"
   ]
  },
  {
   "cell_type": "code",
   "execution_count": null,
   "metadata": {
    "id": "qIhs4cbLL5rt"
   },
   "outputs": [],
   "source": [
    "sorted(nodes, key=second)"
   ]
  },
  {
   "cell_type": "code",
   "execution_count": null,
   "metadata": {
    "id": "OYmQoPv_L-BB"
   },
   "outputs": [],
   "source": [
    "sorted(nodes, key=sum)"
   ]
  },
  {
   "cell_type": "code",
   "execution_count": null,
   "metadata": {
    "id": "ryv4aMbNMMzW"
   },
   "outputs": [],
   "source": [
    "sorted([\"Hello\", 1])"
   ]
  },
  {
   "cell_type": "code",
   "execution_count": null,
   "metadata": {
    "id": "vEmYDkntNZoz"
   },
   "outputs": [],
   "source": [
    "p = sorted(p1)"
   ]
  },
  {
   "cell_type": "code",
   "execution_count": null,
   "metadata": {
    "id": "H0Jh69AeOuwm"
   },
   "outputs": [],
   "source": [
    "p"
   ]
  },
  {
   "cell_type": "code",
   "execution_count": null,
   "metadata": {
    "id": "7XN69LwZO0l2"
   },
   "outputs": [],
   "source": [
    "p[3:7]"
   ]
  },
  {
   "cell_type": "code",
   "execution_count": null,
   "metadata": {
    "id": "qg_DK6rPO5Pl"
   },
   "outputs": [],
   "source": [
    "p[2:]"
   ]
  },
  {
   "cell_type": "code",
   "execution_count": null,
   "metadata": {
    "id": "W-TCdgitO894"
   },
   "outputs": [],
   "source": [
    "p[:8]"
   ]
  },
  {
   "cell_type": "code",
   "execution_count": null,
   "metadata": {
    "id": "gBfEbBREO-a3"
   },
   "outputs": [],
   "source": [
    "p[:]"
   ]
  },
  {
   "cell_type": "code",
   "execution_count": null,
   "metadata": {
    "id": "NAZY1FvvQB2u"
   },
   "outputs": [],
   "source": [
    "print(p[:])"
   ]
  },
  {
   "cell_type": "code",
   "execution_count": null,
   "metadata": {
    "id": "w6mA6_bMQGCl"
   },
   "outputs": [],
   "source": [
    "print(p)"
   ]
  },
  {
   "cell_type": "code",
   "execution_count": null,
   "metadata": {
    "id": "LA5z_BCRQHIo"
   },
   "outputs": [],
   "source": [
    "t = p"
   ]
  },
  {
   "cell_type": "code",
   "execution_count": null,
   "metadata": {
    "id": "iMZBwIXIQY-T"
   },
   "outputs": [],
   "source": [
    "t.append(37)"
   ]
  },
  {
   "cell_type": "code",
   "execution_count": null,
   "metadata": {
    "id": "03WCGRLgQbtL"
   },
   "outputs": [],
   "source": [
    "print(p)"
   ]
  },
  {
   "cell_type": "code",
   "execution_count": null,
   "metadata": {
    "id": "ecKrtGBOQdO5"
   },
   "outputs": [],
   "source": [
    "p = [2, 3, 5, 7, 11, 13, 17, 19, 23, 29, 31]"
   ]
  },
  {
   "cell_type": "code",
   "execution_count": null,
   "metadata": {
    "id": "vfjwQ-vyRBL4"
   },
   "outputs": [],
   "source": [
    "t = p"
   ]
  },
  {
   "cell_type": "code",
   "execution_count": null,
   "metadata": {
    "id": "k46nqh6LRCNv"
   },
   "outputs": [],
   "source": [
    "t.append(37)"
   ]
  },
  {
   "cell_type": "code",
   "execution_count": null,
   "metadata": {
    "id": "nw4RmlDhReuu"
   },
   "outputs": [],
   "source": [
    "p"
   ]
  },
  {
   "cell_type": "code",
   "execution_count": null,
   "metadata": {
    "id": "iQUxz2iDRfTN"
   },
   "outputs": [],
   "source": [
    "s = p[:]"
   ]
  },
  {
   "cell_type": "code",
   "execution_count": null,
   "metadata": {
    "id": "64HR2m51Rpqf"
   },
   "outputs": [],
   "source": [
    "s.append(41)"
   ]
  },
  {
   "cell_type": "code",
   "execution_count": null,
   "metadata": {
    "id": "MW6UAARORwnE"
   },
   "outputs": [],
   "source": [
    "s"
   ]
  },
  {
   "cell_type": "code",
   "execution_count": null,
   "metadata": {
    "id": "cDXRGliwRxwu"
   },
   "outputs": [],
   "source": [
    "p"
   ]
  },
  {
   "cell_type": "code",
   "execution_count": null,
   "metadata": {
    "id": "f9DxKvetRygY"
   },
   "outputs": [],
   "source": [
    "f"
   ]
  },
  {
   "cell_type": "code",
   "execution_count": null,
   "metadata": {
    "id": "pzDUpC4zTGR3"
   },
   "outputs": [],
   "source": [
    "f[2:4]"
   ]
  },
  {
   "cell_type": "code",
   "execution_count": null,
   "metadata": {
    "id": "G9b0rpI2TH0d"
   },
   "outputs": [],
   "source": [
    "f[2:4] = [9, 6]"
   ]
  },
  {
   "cell_type": "code",
   "execution_count": null,
   "metadata": {
    "id": "BiqcWH17TLk0"
   },
   "outputs": [],
   "source": [
    "f"
   ]
  },
  {
   "cell_type": "code",
   "execution_count": null,
   "metadata": {
    "id": "onzC3VfvTMQJ"
   },
   "outputs": [],
   "source": [
    "g = [8, 9, 10,11]\n",
    "f"
   ]
  },
  {
   "cell_type": "code",
   "execution_count": null,
   "metadata": {
    "id": "rFswzT_SThly"
   },
   "outputs": [],
   "source": [
    "f[3:6] = g[1:]"
   ]
  },
  {
   "cell_type": "code",
   "execution_count": null,
   "metadata": {
    "id": "ks9XQ7tTTmKk"
   },
   "outputs": [],
   "source": [
    "f"
   ]
  },
  {
   "cell_type": "code",
   "execution_count": null,
   "metadata": {
    "id": "aM_2bA1STmr3"
   },
   "outputs": [],
   "source": [
    "p"
   ]
  },
  {
   "cell_type": "code",
   "execution_count": null,
   "metadata": {
    "id": "bXsxaTk5Tz1d"
   },
   "outputs": [],
   "source": [
    "p[3:9:2]"
   ]
  },
  {
   "cell_type": "code",
   "execution_count": null,
   "metadata": {
    "id": "VFQ2I_LhT24l"
   },
   "outputs": [],
   "source": [
    "p[:8:3]"
   ]
  },
  {
   "cell_type": "code",
   "execution_count": null,
   "metadata": {
    "id": "a2OCMQDbT7Qi"
   },
   "outputs": [],
   "source": [
    "p[::4]"
   ]
  },
  {
   "cell_type": "code",
   "execution_count": null,
   "metadata": {
    "id": "pE00gywIT_fm"
   },
   "outputs": [],
   "source": [
    "p[::2]"
   ]
  },
  {
   "cell_type": "code",
   "execution_count": null,
   "metadata": {
    "id": "LbHQHHFFUu9s"
   },
   "outputs": [],
   "source": [
    "p[1::2]"
   ]
  },
  {
   "cell_type": "code",
   "execution_count": null,
   "metadata": {
    "id": "p2CXDobrUwnq"
   },
   "outputs": [],
   "source": []
  }
 ],
 "metadata": {
  "colab": {
   "name": "CM0-B2-20210710.ipynb",
   "private_outputs": true,
   "provenance": []
  },
  "kernelspec": {
   "display_name": "Python 3",
   "language": "python",
   "name": "python3"
  },
  "language_info": {
   "codemirror_mode": {
    "name": "ipython",
    "version": 3
   },
   "file_extension": ".py",
   "mimetype": "text/x-python",
   "name": "python",
   "nbconvert_exporter": "python",
   "pygments_lexer": "ipython3",
   "version": "3.8.1"
  },
  "toc": {
   "base_numbering": 1,
   "nav_menu": {},
   "number_sections": true,
   "sideBar": true,
   "skip_h1_title": false,
   "title_cell": "Table of Contents",
   "title_sidebar": "Contents",
   "toc_cell": false,
   "toc_position": {},
   "toc_section_display": true,
   "toc_window_display": false
  },
  "varInspector": {
   "cols": {
    "lenName": 16,
    "lenType": 16,
    "lenVar": 40
   },
   "kernels_config": {
    "python": {
     "delete_cmd_postfix": "",
     "delete_cmd_prefix": "del ",
     "library": "var_list.py",
     "varRefreshCmd": "print(var_dic_list())"
    },
    "r": {
     "delete_cmd_postfix": ") ",
     "delete_cmd_prefix": "rm(",
     "library": "var_list.r",
     "varRefreshCmd": "cat(var_dic_list()) "
    }
   },
   "types_to_exclude": [
    "module",
    "function",
    "builtin_function_or_method",
    "instance",
    "_Feature"
   ],
   "window_display": false
  }
 },
 "nbformat": 4,
 "nbformat_minor": 1
}
