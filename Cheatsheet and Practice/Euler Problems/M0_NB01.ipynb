{
  "nbformat": 4,
  "nbformat_minor": 0,
  "metadata": {
    "kernelspec": {
      "display_name": "Python 3",
      "language": "python",
      "name": "python3"
    },
    "language_info": {
      "codemirror_mode": {
        "name": "ipython",
        "version": 3
      },
      "file_extension": ".py",
      "mimetype": "text/x-python",
      "name": "python",
      "nbconvert_exporter": "python",
      "pygments_lexer": "ipython3",
      "version": "3.5.2"
    },
    "colab": {
      "name": "M0_NB01.ipynb",
      "provenance": [],
      "collapsed_sections": []
    }
  },
  "cells": [
    {
      "cell_type": "markdown",
      "metadata": {
        "id": "FGjo4KfO9Z0V"
      },
      "source": [
        "## Notebook 1: Project Euler Problem 1"
      ]
    },
    {
      "cell_type": "markdown",
      "metadata": {
        "id": "sGrkmZOL98q_"
      },
      "source": [
        "### Learning Objective\n",
        "To observe various Python constructs used to solve the same problem. In this way, syntax can be picked up easily as well as the use-cases for the constructs understood in comparison"
      ]
    },
    {
      "cell_type": "markdown",
      "metadata": {
        "id": "6Z2eNyOW9Z0e"
      },
      "source": [
        "## Problem Statement\n",
        "\n",
        "If we list all the natural numbers below 10 that are multiples of 3 or 5, we get 3, 5, 6 and 9. The sum of these multiples is 23.\n",
        "\n",
        "Find the sum of all the multiples of 3 or 5 below 1000."
      ]
    },
    {
      "cell_type": "markdown",
      "metadata": {
        "id": "9Gecb_j5-hth"
      },
      "source": [
        "### Style notes\n",
        "*Note that **sum** is a built-in function and should not be used as a variable name*\n",
        "\n",
        "**LIMIT** is used instead of hardcoding a number. This is a good practice.\n",
        "\n",
        "Note the choice of variable and function names -- we have tried to follow good practices there too"
      ]
    },
    {
      "cell_type": "markdown",
      "metadata": {
        "id": "udpGL0dL9Z0f"
      },
      "source": [
        "#### Using a while loop"
      ]
    },
    {
      "cell_type": "code",
      "metadata": {
        "id": "jBnKp5Ea9Z0g"
      },
      "source": [
        "LIMIT = 1000\n",
        "total = 0\n",
        "n = 1\n",
        "while n < LIMIT:\n",
        "    if n % 3 == 0 or n % 5 == 0:\n",
        "        total += n\n",
        "    n += 1\n",
        "print(total)"
      ],
      "execution_count": null,
      "outputs": []
    },
    {
      "cell_type": "markdown",
      "metadata": {
        "id": "fW5Xb1yi9Z0i"
      },
      "source": [
        "#### Using range() and for loop"
      ]
    },
    {
      "cell_type": "code",
      "metadata": {
        "id": "v4dHULY69Z0j"
      },
      "source": [
        "\n",
        "LIMIT = 1000\n",
        "total = 0\n",
        "for n in range(LIMIT):\n",
        "    if n % 3 == 0 or n % 5 == 0:\n",
        "        total += n\n",
        "print(total)"
      ],
      "execution_count": null,
      "outputs": []
    },
    {
      "cell_type": "markdown",
      "metadata": {
        "id": "DbYJYh3p9Z0j"
      },
      "source": [
        "#### Using a function with while"
      ]
    },
    {
      "cell_type": "code",
      "metadata": {
        "id": "eECNlKRc9Z0k"
      },
      "source": [
        "def select(x):\n",
        "    return x % 3 == 0 or x % 5 == 0\n",
        "\n",
        "LIMIT = 1000\n",
        "total = 0\n",
        "n = 1\n",
        "while n < LIMIT:\n",
        "    if select(n):\n",
        "        total += n\n",
        "    n += 1\n",
        "print(total)"
      ],
      "execution_count": null,
      "outputs": []
    },
    {
      "cell_type": "markdown",
      "metadata": {
        "id": "0jERYDIJ9Z0m"
      },
      "source": [
        "#### Using a function with for"
      ]
    },
    {
      "cell_type": "code",
      "metadata": {
        "id": "keJPuMOP9Z0m"
      },
      "source": [
        "def select(x):\n",
        "    return x % 3 == 0 or x % 5 == 0\n",
        "LIMIT = 1000\n",
        "total = 0\n",
        "for n in range(LIMIT):\n",
        "    if select(n):\n",
        "        total += n\n",
        "print(total)"
      ],
      "execution_count": null,
      "outputs": []
    },
    {
      "cell_type": "markdown",
      "metadata": {
        "id": "fKjS-FTP9Z0s"
      },
      "source": [
        "#### Using filter with function"
      ]
    },
    {
      "cell_type": "code",
      "metadata": {
        "id": "HstMlz419Z0t"
      },
      "source": [
        "def select(x):\n",
        "    return x % 3 == 0 or x % 5 == 0\n",
        "LIMIT = 1000\n",
        "sum(filter(select, range(LIMIT)))"
      ],
      "execution_count": null,
      "outputs": []
    },
    {
      "cell_type": "markdown",
      "metadata": {
        "id": "IiFm5Bjd9Z0w"
      },
      "source": [
        "#### Using list comprehensions"
      ]
    },
    {
      "cell_type": "code",
      "metadata": {
        "id": "EZcJu26w9Z0x"
      },
      "source": [
        "LIMIT = 1000\n",
        "sum([x for x in range(LIMIT) if x % 3 == 0 or x % 5 == 0])"
      ],
      "execution_count": null,
      "outputs": []
    },
    {
      "cell_type": "markdown",
      "metadata": {
        "id": "urLVu8m3_ygB"
      },
      "source": [
        "#### List comprehensions with an external function"
      ]
    },
    {
      "cell_type": "code",
      "metadata": {
        "id": "0X7TPx-5_tlv"
      },
      "source": [
        "LIMIT = 1000\n",
        "def select(x):\n",
        "    return x % 3 == 0 or x % 5 == 0\n",
        "    \n",
        "sum([x for x in range(LIMIT) if select(x)])"
      ],
      "execution_count": null,
      "outputs": []
    },
    {
      "cell_type": "markdown",
      "metadata": {
        "id": "b2MNZPAx9Z0x"
      },
      "source": [
        "#### Using just ranges"
      ]
    },
    {
      "cell_type": "code",
      "metadata": {
        "id": "0FROCxwN9Z0y"
      },
      "source": [
        "LIMIT = 1000\n",
        "sum(range(3, LIMIT, 3)) + sum(range(5, LIMIT, 5)) - sum(range(15, LIMIT, 15))"
      ],
      "execution_count": null,
      "outputs": []
    },
    {
      "cell_type": "markdown",
      "metadata": {
        "id": "jptmQxZw9Z0y"
      },
      "source": [
        "#### Using sets"
      ]
    },
    {
      "cell_type": "code",
      "metadata": {
        "id": "7iFCUTCs9Z0y"
      },
      "source": [
        "LIMIT = 1000\n",
        "sum(set(range(3, LIMIT, 3)) | set(range(5, LIMIT, 5)))"
      ],
      "execution_count": null,
      "outputs": []
    },
    {
      "cell_type": "markdown",
      "metadata": {
        "id": "2YzM_z8WAA3-"
      },
      "source": [
        "### Discussion points\n",
        "Which version is the 'easiest' to understand?\n",
        "\n",
        "Which version is most 'pythonic'?\n",
        "\n",
        "Which do you like? Why? Does this choice depend on your go to programming language?"
      ]
    }
  ]
}