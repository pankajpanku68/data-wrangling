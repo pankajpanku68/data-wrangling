{
  "nbformat": 4,
  "nbformat_minor": 0,
  "metadata": {
    "colab": {
      "name": "CM0-B2-20210711.ipynb",
      "private_outputs": true,
      "provenance": []
    },
    "kernelspec": {
      "name": "python3",
      "display_name": "Python 3"
    },
    "language_info": {
      "name": "python"
    }
  },
  "cells": [
    {
      "cell_type": "markdown",
      "metadata": {
        "id": "CRk3Hgaso6AA"
      },
      "source": [
        "# Factorization"
      ]
    },
    {
      "cell_type": "code",
      "metadata": {
        "id": "ewSlymYPpX8x"
      },
      "source": [
        "def factorize(n: int) -> [int]:\n",
        "    factors = []\n",
        "    while n % 2 == 0:\n",
        "        factors.append(2)\n",
        "        n //= 2\n",
        "    factor = 3\n",
        "    while factor * factor <= n:\n",
        "        while n % factor == 0:\n",
        "            factors.append(factor)\n",
        "            n //= factor\n",
        "        factor += 2\n",
        "    factors.append(n)\n",
        "    return factors "
      ],
      "execution_count": null,
      "outputs": []
    },
    {
      "cell_type": "code",
      "metadata": {
        "id": "oxuRVhQVsYBb"
      },
      "source": [
        "factorize(12195)"
      ],
      "execution_count": null,
      "outputs": []
    },
    {
      "cell_type": "code",
      "metadata": {
        "id": "tGQ6__eMsb8E"
      },
      "source": [
        "factorize(13195)"
      ],
      "execution_count": null,
      "outputs": []
    },
    {
      "cell_type": "code",
      "metadata": {
        "id": "DL1gxwjQsk_3"
      },
      "source": [
        "euler3 = max(factorize(600851475143))\n",
        "print(euler3)"
      ],
      "execution_count": null,
      "outputs": []
    },
    {
      "cell_type": "code",
      "metadata": {
        "id": "0ptBTRhkw8aU"
      },
      "source": [
        "a = factorize(13195)\n",
        "print(a)"
      ],
      "execution_count": null,
      "outputs": []
    },
    {
      "cell_type": "code",
      "metadata": {
        "id": "OfMZZDOZs7g1"
      },
      "source": [
        "def factorize(n: int) -> [int]:\n",
        "    if n < 2:\n",
        "        return []\n",
        "    return factorizer(n) \n",
        "    def factorizer(n) -> [int]:   \n",
        "        factors = []\n",
        "        while n % 2 == 0:\n",
        "            factors.append(2)\n",
        "            n //= 2\n",
        "        factor = 3\n",
        "        while factor * factor <= n:\n",
        "            while n % factor == 0:\n",
        "                factors.append(factor)\n",
        "                n //= factor\n",
        "            factor += 2\n",
        "        factors.append(n)\n",
        "        return factors "
      ],
      "execution_count": null,
      "outputs": []
    },
    {
      "cell_type": "markdown",
      "metadata": {
        "id": "awkaRzdw0hfz"
      },
      "source": [
        "#Strings"
      ]
    },
    {
      "cell_type": "code",
      "metadata": {
        "id": "N6Igd8_80jX5"
      },
      "source": [
        "title = \"Star Wars\""
      ],
      "execution_count": null,
      "outputs": []
    },
    {
      "cell_type": "code",
      "metadata": {
        "id": "iVnkRzbf1hym"
      },
      "source": [
        "hero = 'Luke Skywalker'"
      ],
      "execution_count": null,
      "outputs": []
    },
    {
      "cell_type": "code",
      "metadata": {
        "id": "um1MWD1t1oCO"
      },
      "source": [
        "len(title)"
      ],
      "execution_count": null,
      "outputs": []
    },
    {
      "cell_type": "code",
      "metadata": {
        "id": "foxGvWbg1xhC"
      },
      "source": [
        "len(hero)"
      ],
      "execution_count": null,
      "outputs": []
    },
    {
      "cell_type": "code",
      "metadata": {
        "id": "q8oBELeU18i9"
      },
      "source": [
        "\"The Greeks say α, β, γ, ...\""
      ],
      "execution_count": null,
      "outputs": []
    },
    {
      "cell_type": "code",
      "metadata": {
        "id": "87mBUJNT2LJG"
      },
      "source": [
        "title"
      ],
      "execution_count": null,
      "outputs": []
    },
    {
      "cell_type": "code",
      "metadata": {
        "id": "eonrOdCB2kfy"
      },
      "source": [
        "print(title)"
      ],
      "execution_count": null,
      "outputs": []
    },
    {
      "cell_type": "code",
      "metadata": {
        "id": "Xj72SoGt2mN6"
      },
      "source": [
        "na = 3.4\n",
        "sa = \"3.4\""
      ],
      "execution_count": null,
      "outputs": []
    },
    {
      "cell_type": "code",
      "metadata": {
        "id": "FYYw-dfl22mK"
      },
      "source": [
        "print(sa)"
      ],
      "execution_count": null,
      "outputs": []
    },
    {
      "cell_type": "code",
      "metadata": {
        "id": "YWFlOwE725Ga"
      },
      "source": [
        "print(na)"
      ],
      "execution_count": null,
      "outputs": []
    },
    {
      "cell_type": "code",
      "metadata": {
        "id": "eDnp_foO26p7"
      },
      "source": [
        "sa"
      ],
      "execution_count": null,
      "outputs": []
    },
    {
      "cell_type": "code",
      "metadata": {
        "id": "Teps6kaW2-GA"
      },
      "source": [
        "na"
      ],
      "execution_count": null,
      "outputs": []
    },
    {
      "cell_type": "code",
      "metadata": {
        "id": "5RO8pUT-2_Hd"
      },
      "source": [
        "s1 = \"He said I'm Adam\"\n",
        "s2 = 'The teacher instructed, \"Raise your hands\" to them' "
      ],
      "execution_count": null,
      "outputs": []
    },
    {
      "cell_type": "code",
      "metadata": {
        "id": "xe0L9Wmr3aGJ"
      },
      "source": [
        "print(s1)"
      ],
      "execution_count": null,
      "outputs": []
    },
    {
      "cell_type": "code",
      "metadata": {
        "id": "-KpUMMT73hWz"
      },
      "source": [
        "print(s2)"
      ],
      "execution_count": null,
      "outputs": []
    },
    {
      "cell_type": "code",
      "metadata": {
        "id": "S2NkYVY73ioD"
      },
      "source": [
        "story = '''Long long ago, in a galaxy far far away, the Empire was\n",
        "ruling with an iron hand. The rebels were fighting against them,\n",
        "\"Death Star's Destruction\" is an episode in that galaxy wide battle''' "
      ],
      "execution_count": null,
      "outputs": []
    },
    {
      "cell_type": "code",
      "metadata": {
        "id": "qhLyU03642w4"
      },
      "source": [
        "print(story)"
      ],
      "execution_count": null,
      "outputs": []
    },
    {
      "cell_type": "code",
      "metadata": {
        "id": "Yfa9bD0V44Xl"
      },
      "source": [
        "story"
      ],
      "execution_count": null,
      "outputs": []
    },
    {
      "cell_type": "code",
      "metadata": {
        "id": "vh0RML9U5GYJ"
      },
      "source": [
        "def even(n: int) -> bool:\n",
        "    '''Checks if the given number is even. Does not valid the\n",
        "    data type of its input; assumes integer'''\n",
        "    return n % 2 == 0"
      ],
      "execution_count": null,
      "outputs": []
    },
    {
      "cell_type": "code",
      "metadata": {
        "id": "zDFmWF3H5jos"
      },
      "source": [
        "even?"
      ],
      "execution_count": null,
      "outputs": []
    },
    {
      "cell_type": "code",
      "metadata": {
        "id": "hx6N-AGH5ovZ"
      },
      "source": [
        "even??"
      ],
      "execution_count": null,
      "outputs": []
    },
    {
      "cell_type": "code",
      "metadata": {
        "id": "GfCmco2f5wNu"
      },
      "source": [
        "p = [2, 3, 5, 7, 11, 13, 17, 19, 23, 29, 31]"
      ],
      "execution_count": null,
      "outputs": []
    },
    {
      "cell_type": "code",
      "metadata": {
        "id": "4_xaqjlf6Gvr"
      },
      "source": [
        "p[4:8]"
      ],
      "execution_count": null,
      "outputs": []
    },
    {
      "cell_type": "code",
      "metadata": {
        "id": "Lf9TQjiD6KYl"
      },
      "source": [
        "hero[4:8]"
      ],
      "execution_count": null,
      "outputs": []
    },
    {
      "cell_type": "code",
      "metadata": {
        "id": "h4mgEmGD6OvI"
      },
      "source": [
        "p[3:11:2]"
      ],
      "execution_count": null,
      "outputs": []
    },
    {
      "cell_type": "code",
      "metadata": {
        "id": "SbdcxMr96Uki"
      },
      "source": [
        "story[4:37:6]"
      ],
      "execution_count": null,
      "outputs": []
    },
    {
      "cell_type": "code",
      "metadata": {
        "id": "lga4pQRE6YVl"
      },
      "source": [
        "p"
      ],
      "execution_count": null,
      "outputs": []
    },
    {
      "cell_type": "code",
      "metadata": {
        "id": "EBaTPBhN6grL"
      },
      "source": [
        "p[::-1]"
      ],
      "execution_count": null,
      "outputs": []
    },
    {
      "cell_type": "code",
      "metadata": {
        "id": "Hjp8h5eJ6iLd"
      },
      "source": [
        "p[::-3]"
      ],
      "execution_count": null,
      "outputs": []
    },
    {
      "cell_type": "code",
      "metadata": {
        "id": "Xu6Xntiy6mYu"
      },
      "source": [
        "p[:4:-2]"
      ],
      "execution_count": null,
      "outputs": []
    },
    {
      "cell_type": "code",
      "metadata": {
        "id": "TlCo11te6qde"
      },
      "source": [
        "len(story)"
      ],
      "execution_count": null,
      "outputs": []
    },
    {
      "cell_type": "code",
      "metadata": {
        "id": "3dh5OFXc9jCW"
      },
      "source": [
        "story.count('a')"
      ],
      "execution_count": null,
      "outputs": []
    },
    {
      "cell_type": "code",
      "metadata": {
        "id": "HuYR5BDW9mdi"
      },
      "source": [
        "hero.lower()"
      ],
      "execution_count": null,
      "outputs": []
    },
    {
      "cell_type": "code",
      "metadata": {
        "id": "-iu9cfMV9sv2"
      },
      "source": [
        "hero.upper()"
      ],
      "execution_count": null,
      "outputs": []
    },
    {
      "cell_type": "code",
      "metadata": {
        "id": "5rIXLNf_9urh"
      },
      "source": [
        "\"hello world\".capitalize()"
      ],
      "execution_count": null,
      "outputs": []
    },
    {
      "cell_type": "code",
      "metadata": {
        "id": "_9O4hOTM90Vc"
      },
      "source": [
        "\"hello world\".title()"
      ],
      "execution_count": null,
      "outputs": []
    },
    {
      "cell_type": "code",
      "metadata": {
        "id": "uB_HTd0Z94Wk"
      },
      "source": [
        "hero.replace('e', '3')"
      ],
      "execution_count": null,
      "outputs": []
    },
    {
      "cell_type": "code",
      "metadata": {
        "id": "wLULRhYh-HTC"
      },
      "source": [
        "hero.split()"
      ],
      "execution_count": null,
      "outputs": []
    },
    {
      "cell_type": "code",
      "metadata": {
        "id": "6BptOEvs-MSD"
      },
      "source": [
        "len(story.split())"
      ],
      "execution_count": null,
      "outputs": []
    },
    {
      "cell_type": "code",
      "metadata": {
        "id": "gA-Nlpgu-QcL"
      },
      "source": [
        "story.split()"
      ],
      "execution_count": null,
      "outputs": []
    },
    {
      "cell_type": "code",
      "metadata": {
        "id": "eoB1DnX2-cQ0"
      },
      "source": [
        "ss = \"\"\"Hello \"I am Princess Leia\" said the hologram\\n. Luke was dumbstuck.\"\"\""
      ],
      "execution_count": null,
      "outputs": []
    },
    {
      "cell_type": "code",
      "metadata": {
        "id": "KQytVDSZ-w_j"
      },
      "source": [
        "ss.split()"
      ],
      "execution_count": null,
      "outputs": []
    },
    {
      "cell_type": "code",
      "metadata": {
        "id": "BoQsmGCo-yej"
      },
      "source": [
        "ss.split(' ')"
      ],
      "execution_count": null,
      "outputs": []
    },
    {
      "cell_type": "code",
      "metadata": {
        "id": "S9eOIi5O-4A4"
      },
      "source": [
        "\"one two  three    four\".split()"
      ],
      "execution_count": null,
      "outputs": []
    },
    {
      "cell_type": "code",
      "metadata": {
        "id": "2jGTtANf_itz"
      },
      "source": [
        "\"one two  three    four\".split(' ')"
      ],
      "execution_count": null,
      "outputs": []
    },
    {
      "cell_type": "code",
      "metadata": {
        "id": "ruZiQOdY_mb0"
      },
      "source": [
        "\"\\t\".isspace()"
      ],
      "execution_count": null,
      "outputs": []
    },
    {
      "cell_type": "code",
      "metadata": {
        "id": "f4wiGyUbFivN"
      },
      "source": [
        "\"\\n\".isspace()"
      ],
      "execution_count": null,
      "outputs": []
    },
    {
      "cell_type": "code",
      "metadata": {
        "id": "kwlLzDLTFogA"
      },
      "source": [
        "\"ηη\".upper()"
      ],
      "execution_count": null,
      "outputs": []
    },
    {
      "cell_type": "markdown",
      "metadata": {
        "id": "Y9iFNrcCKTx2"
      },
      "source": [
        "# Euler 8"
      ]
    },
    {
      "cell_type": "code",
      "metadata": {
        "id": "dsgCLdRWGjF4"
      },
      "source": [
        "euler8 =\"7316717653133062491922511967442657474235534919493496983520312774506326239578318016984801869478851843858615607891129494954595017379583319528532088055111254069874715852386305071569329096329522744304355766896648950445244523161731856403098711121722383113622298934233803081353362766142828064444866452387493035890729629049156044077239071381051585930796086670172427121883998797908792274921901699720888093776657273330010533678812202354218097512545405947522435258490771167055601360483958644670632441572215539753697817977846174064955149290862569321978468622482839722413756570560574902614079729686524145351004748216637048440319989000889524345065854122758866688116427171479924442928230863465674813919123162824586178664583591245665294765456828489128831426076900422421902267105562632111110937054421750694165896040807198403850962455444362981230987879927244284909188845801561660979191338754992005240636899125607176060588611646710940507754100225698315520005593572972571636269561882670428252483600823257530420752963450\""
      ],
      "execution_count": null,
      "outputs": []
    },
    {
      "cell_type": "code",
      "metadata": {
        "id": "gzJjVFeqHB7a"
      },
      "source": [
        "len(euler8)"
      ],
      "execution_count": null,
      "outputs": []
    },
    {
      "cell_type": "code",
      "metadata": {
        "id": "vwTs8NfHHEhJ"
      },
      "source": [
        "def prod(s: str) -> int:\n",
        "    \"\"\"multiply the digits of the strigified number\n",
        "    and return the product\"\"\"\n",
        "    p = 1\n",
        "    for ch in s:\n",
        "        p = p * int(ch)\n",
        "    return p"
      ],
      "execution_count": null,
      "outputs": []
    },
    {
      "cell_type": "code",
      "metadata": {
        "id": "7BtEIGeLHfv5"
      },
      "source": [
        "prod(\"2347\")"
      ],
      "execution_count": null,
      "outputs": []
    },
    {
      "cell_type": "code",
      "metadata": {
        "id": "hS-bSiSeHh4B"
      },
      "source": [
        "def make_slices(s: str, SIZE: int) -> [str]:\n",
        "    return [s[start:start + SIZE] for start in range(len(s) - SIZE + 1)]"
      ],
      "execution_count": null,
      "outputs": []
    },
    {
      "cell_type": "code",
      "metadata": {
        "id": "U0Vy9Lt4IVtG"
      },
      "source": [
        "make_slices(\"123456789123456789\", 4)"
      ],
      "execution_count": null,
      "outputs": []
    },
    {
      "cell_type": "code",
      "metadata": {
        "id": "sCOcnHCcIeT9"
      },
      "source": [
        "def products(s: str, SIZE:int) -> [int]:\n",
        "    return [prod(piece) for piece in make_slices(s, SIZE)]"
      ],
      "execution_count": null,
      "outputs": []
    },
    {
      "cell_type": "code",
      "metadata": {
        "id": "KvlYtf93I8Cx"
      },
      "source": [
        "max(products(euler8, 4))"
      ],
      "execution_count": null,
      "outputs": []
    },
    {
      "cell_type": "code",
      "metadata": {
        "id": "NQ4zaxEKJEzC"
      },
      "source": [
        "max(products(euler8, 13))"
      ],
      "execution_count": null,
      "outputs": []
    },
    {
      "cell_type": "code",
      "metadata": {
        "id": "JYNKBEEIJJM0"
      },
      "source": [
        "def prod(s: str) -> int:\n",
        "    \"\"\"multiply the digits of the strigified number\n",
        "    and return the product\"\"\"\n",
        "    p = 1\n",
        "    for ch in s:\n",
        "        p = p * int(ch)\n",
        "    return p\n",
        "\n",
        "\n",
        "def make_slices(s: str, SIZE: int) -> [str]:\n",
        "    return [s[start:start + SIZE] for start in range(len(s) - SIZE + 1)]\n",
        "\n",
        "\n",
        "def products(s: str, SIZE:int) -> [int]:\n",
        "    return [prod(piece) for piece in make_slices(s, SIZE)]\n",
        "\n",
        "euler8Answer = max(products(euler8, 13))"
      ],
      "execution_count": null,
      "outputs": []
    },
    {
      "cell_type": "markdown",
      "metadata": {
        "id": "jPccGk42KXJD"
      },
      "source": [
        "# Euler 4"
      ]
    },
    {
      "cell_type": "markdown",
      "metadata": {
        "id": "pKDBemP0KbNW"
      },
      "source": [
        "\n",
        "\n",
        "A palindromic number reads the same both ways. The largest palindrome made from the product of two 2-digit numbers is 9009 = 91 × 99.\n",
        "\n",
        "Find the largest palindrome made from the product of two 3-digit numbers.\n"
      ]
    },
    {
      "cell_type": "code",
      "metadata": {
        "id": "DK-Gq4eeKjAs"
      },
      "source": [
        "def reverse(n: int) -> int:\n",
        "    rev = 0\n",
        "    while n > 0:\n",
        "        rev = rev * 10 + n % 10\n",
        "        n //= 10\n",
        "    return rev"
      ],
      "execution_count": null,
      "outputs": []
    },
    {
      "cell_type": "code",
      "metadata": {
        "id": "NZdneLXUK0Su"
      },
      "source": [
        "reverse(27845)"
      ],
      "execution_count": null,
      "outputs": []
    },
    {
      "cell_type": "code",
      "metadata": {
        "id": "os-kgq39K138"
      },
      "source": [
        "def is_palindrome(n: int) -> bool:\n",
        "    return n == reverse(n)"
      ],
      "execution_count": null,
      "outputs": []
    },
    {
      "cell_type": "code",
      "metadata": {
        "id": "WecRCGQ3K-iw"
      },
      "source": [
        "is_palindrome(121)"
      ],
      "execution_count": null,
      "outputs": []
    },
    {
      "cell_type": "code",
      "metadata": {
        "id": "BauVWMnILBAC"
      },
      "source": [
        "is_palindrome(124)"
      ],
      "execution_count": null,
      "outputs": []
    },
    {
      "cell_type": "code",
      "metadata": {
        "id": "LM0bpOSELC4U"
      },
      "source": [
        "def palindromic_products(START: int, LIMIT:int) -> [int]:\n",
        "    prods = []\n",
        "    for i in range(START, LIMIT):\n",
        "        for j in range(i, LIMIT):\n",
        "            if  is_palindrome(i * j):\n",
        "                prods.append(i * j)\n",
        "    return prods\n"
      ],
      "execution_count": null,
      "outputs": []
    },
    {
      "cell_type": "code",
      "metadata": {
        "id": "Wdy7bSeRLoq_"
      },
      "source": [
        "euler4 = max(palindromic_products(100, 1000))"
      ],
      "execution_count": null,
      "outputs": []
    },
    {
      "cell_type": "code",
      "metadata": {
        "id": "QCVWnDDXLwHE"
      },
      "source": [
        "print(euler4)"
      ],
      "execution_count": null,
      "outputs": []
    },
    {
      "cell_type": "code",
      "metadata": {
        "id": "8FT5nwZQLxlK"
      },
      "source": [
        "def sreverse(n: int) -> int:\n",
        "    return int(str(n)[::-1])"
      ],
      "execution_count": null,
      "outputs": []
    },
    {
      "cell_type": "code",
      "metadata": {
        "id": "Fqg9ejjHNHW8"
      },
      "source": [
        "def isPalindrome(n: int) -> bool:\n",
        "    s = str(n)\n",
        "    return s == s[::-1]"
      ],
      "execution_count": null,
      "outputs": []
    },
    {
      "cell_type": "code",
      "metadata": {
        "id": "MVcqthJwNPVf"
      },
      "source": [
        "def fizzbuzz(n: int) -> str:\n",
        "    if n % 3 == 0 and n % 5 == 0:\n",
        "        return \"FizzBuzz\"\n",
        "    if n % 3 == 0:\n",
        "        return \"Fizz\"\n",
        "    if n % 5 == 0:\n",
        "        return \"Buzz\"\n",
        "    return str(n) "
      ],
      "execution_count": null,
      "outputs": []
    },
    {
      "cell_type": "code",
      "metadata": {
        "id": "WQ6oTFbFS9rz"
      },
      "source": [
        "N = int(input(\"Enter number: \"))\n",
        "for i in range(1, N + 1):\n",
        "    print(fizzbuzz(i))"
      ],
      "execution_count": null,
      "outputs": []
    },
    {
      "cell_type": "code",
      "metadata": {
        "id": "QZ-3de9TTNz5"
      },
      "source": [
        "fizzbuzz(15)"
      ],
      "execution_count": null,
      "outputs": []
    },
    {
      "cell_type": "code",
      "metadata": {
        "id": "xxSaUHmMUUpO"
      },
      "source": [
        ""
      ],
      "execution_count": null,
      "outputs": []
    },
    {
      "cell_type": "code",
      "metadata": {
        "id": "7yVYTKB9TehK"
      },
      "source": [
        "def fizzbuzz2(n: int) -> str:\n",
        "    fb = \"\"\n",
        "    if n % 3 == 0:\n",
        "        fb += \"Fizz\"\n",
        "    if n % 5 == 0:\n",
        "        fb += \"Buzz\"\n",
        "    if len(fb) == 0:\n",
        "        fb = str(n)\n",
        "    return fb "
      ],
      "execution_count": null,
      "outputs": []
    },
    {
      "cell_type": "code",
      "metadata": {
        "id": "76Ysbn0fT5Bw"
      },
      "source": [
        "fizzbuzz2(16)"
      ],
      "execution_count": null,
      "outputs": []
    },
    {
      "cell_type": "code",
      "metadata": {
        "id": "yt2JaQ7dUX-q"
      },
      "source": [
        "''.join([\"Hello\", \"World\"])"
      ],
      "execution_count": null,
      "outputs": []
    },
    {
      "cell_type": "code",
      "metadata": {
        "id": "mGQUHqLaU-QB"
      },
      "source": [
        "for i in range(15):\n",
        "    print(fizzbuzz2(i), end = \",\")"
      ],
      "execution_count": null,
      "outputs": []
    },
    {
      "cell_type": "code",
      "metadata": {
        "id": "cF6bPyYXVUBa"
      },
      "source": [
        "','.join([fizzbuzz2(i) for i in range(15)])"
      ],
      "execution_count": null,
      "outputs": []
    },
    {
      "cell_type": "code",
      "metadata": {
        "id": "MFFH_hOlVjPH"
      },
      "source": [
        "','.join(['\"' + fizzbuzz2(i) + '\"' for i in range(15)])"
      ],
      "execution_count": null,
      "outputs": []
    },
    {
      "cell_type": "code",
      "metadata": {
        "id": "s2nkC88BVy_4"
      },
      "source": [
        "fbs = [\"FizzBuzz\",\"\",\"\",\"Fizz\",\"\",\"Buzz\",\"Fizz\",\"\",\"\",\"Fizz\",\"Buzz\",\"\",\"Fizz\",\"\",\"\"]\n",
        "def fizzbuzz3(n: int) -> str:\n",
        "    fb = fbs[n % 15] \n",
        "    if fb == \"\":\n",
        "        fb += str(n)\n",
        "    return fb"
      ],
      "execution_count": null,
      "outputs": []
    },
    {
      "cell_type": "code",
      "metadata": {
        "id": "vtJzrM6NWDvn"
      },
      "source": [
        "def fizzbuzzn(n: int) -> [str]:\n",
        "    fb = [str(x) for x in range(n)]\n",
        "    fb[::3] = [\"Fizz\"] * len(fb[::3])\n",
        "    fb[::5] = [\"Buzz\"] * len(fb[::5])\n",
        "    fb[::15] = [\"FizzBuzz\"] * len(fb[::15])\n",
        "    return fb[1:]"
      ],
      "execution_count": null,
      "outputs": []
    },
    {
      "cell_type": "code",
      "metadata": {
        "id": "Tw2HUfcWar6P"
      },
      "source": [
        "fizzbuzzn(16)"
      ],
      "execution_count": null,
      "outputs": []
    },
    {
      "cell_type": "code",
      "metadata": {
        "id": "8yPubxGkawp3"
      },
      "source": [
        "\"HELLO WORLD\".lower().title()"
      ],
      "execution_count": null,
      "outputs": []
    },
    {
      "cell_type": "code",
      "metadata": {
        "id": "plDcp0A8dlRF"
      },
      "source": [
        "\"HELLO WORLD\".replace(\"O\", '0').lower()"
      ],
      "execution_count": null,
      "outputs": []
    },
    {
      "cell_type": "markdown",
      "metadata": {
        "id": "lQADoqBLd2EK"
      },
      "source": [
        "# Lunch break\n",
        "## Back at 14:00"
      ]
    },
    {
      "cell_type": "markdown",
      "metadata": {
        "id": "g59OqOHteI-V"
      },
      "source": [
        "# Dictionaries"
      ]
    },
    {
      "cell_type": "code",
      "metadata": {
        "id": "c87bKEiArWQ-"
      },
      "source": [
        "countries = [\"US\", \"UK\", \"IN\", \"SL\", \"SA\"]\n",
        "cities = [\"Washington\", \"London\", \"Delhi\", \"Colombo\", \"Pretoria\"]"
      ],
      "execution_count": null,
      "outputs": []
    },
    {
      "cell_type": "code",
      "metadata": {
        "id": "N-nE7w5GrjNS"
      },
      "source": [
        "# lookup() :: given a country returns the capital city"
      ],
      "execution_count": null,
      "outputs": []
    },
    {
      "cell_type": "code",
      "metadata": {
        "id": "PRxUB9jQsaZe"
      },
      "source": [
        "# lookup(\"UK\") ---> \"London\"\n",
        "def lookup(given: str) -> str:\n",
        "    for i in range(len(countries)):\n",
        "    #for country in countries:\n",
        "        if countries[i] == given:\n",
        "            return cities[i]\n",
        "    return None"
      ],
      "execution_count": null,
      "outputs": []
    },
    {
      "cell_type": "code",
      "metadata": {
        "id": "M1N0rqyitakW"
      },
      "source": [
        "def lookup2(given: str) -> str:\n",
        "    for i, country in enumerate(countries):\n",
        "        if country == given:\n",
        "            return cities[i]\n",
        "    return None"
      ],
      "execution_count": null,
      "outputs": []
    },
    {
      "cell_type": "code",
      "metadata": {
        "id": "EMSam__VuQLx"
      },
      "source": [
        "countries.index(\"SL\")"
      ],
      "execution_count": null,
      "outputs": []
    },
    {
      "cell_type": "code",
      "metadata": {
        "id": "VjH1MnMSuV3W"
      },
      "source": [
        "def lookup3(given: str) -> str:\n",
        "    if given not in countries:\n",
        "        return None    \n",
        "    return cities[countries.index(given)]\n",
        "    "
      ],
      "execution_count": null,
      "outputs": []
    },
    {
      "cell_type": "code",
      "metadata": {
        "id": "MznYZXwVvKmZ"
      },
      "source": [
        "capitals = {\"US\": \"Washington\", \"UK\": \"London\", \"IN\": \"Delhi\", \"SA\": \"Pretoria\"}"
      ],
      "execution_count": null,
      "outputs": []
    },
    {
      "cell_type": "code",
      "metadata": {
        "id": "3AZM4FkWu2b4"
      },
      "source": [
        "capitals[\"UK\"]"
      ],
      "execution_count": null,
      "outputs": []
    },
    {
      "cell_type": "code",
      "metadata": {
        "id": "dPJTOv6HvW95"
      },
      "source": [
        "capitals[\"SL\"]"
      ],
      "execution_count": null,
      "outputs": []
    },
    {
      "cell_type": "code",
      "metadata": {
        "id": "P66pIvWnvgeI"
      },
      "source": [
        "\"SL\" in capitals"
      ],
      "execution_count": null,
      "outputs": []
    },
    {
      "cell_type": "code",
      "metadata": {
        "id": "UvjYGu6tvk3S"
      },
      "source": [
        "\"Delhi\" in capitals"
      ],
      "execution_count": null,
      "outputs": []
    },
    {
      "cell_type": "code",
      "metadata": {
        "id": "2gAfzvETvoCY"
      },
      "source": [
        "capitals[\"SL\"] = \"Colombo\""
      ],
      "execution_count": null,
      "outputs": []
    },
    {
      "cell_type": "code",
      "metadata": {
        "id": "g-CIEZqXwuFA"
      },
      "source": [
        "capitals"
      ],
      "execution_count": null,
      "outputs": []
    },
    {
      "cell_type": "code",
      "metadata": {
        "id": "6ht5sMbKwvXv"
      },
      "source": [
        "capitals[\"IN\"] = \"New Delhi\""
      ],
      "execution_count": null,
      "outputs": []
    },
    {
      "cell_type": "code",
      "metadata": {
        "id": "C_oJMPfxyj4E"
      },
      "source": [
        "capitals"
      ],
      "execution_count": null,
      "outputs": []
    },
    {
      "cell_type": "code",
      "metadata": {
        "id": "NwabEXdGyk-_"
      },
      "source": [
        "def fizzbuzzd(n: int) -> str:\n",
        "    fb = {(False, False): str(n), (True, False): \"Fizz\", \n",
        "          (False, True): \"Buzz\", (True, True): \"FizzBuzz\"}\n",
        "    return fb[(n % 3 == 0, n % 5 == 0)]"
      ],
      "execution_count": null,
      "outputs": []
    },
    {
      "cell_type": "code",
      "metadata": {
        "id": "X_yZyZfx0lXt"
      },
      "source": [
        "fizzbuzzd(12)"
      ],
      "execution_count": null,
      "outputs": []
    },
    {
      "cell_type": "code",
      "metadata": {
        "id": "n_PiyaVc0nWG"
      },
      "source": [
        "def select(n: int) -> int:\n",
        "    return int(n % 3 == 0) + 2 * int(n % 5 == 0)\n",
        "\n",
        "\n",
        "def fizzbuzzz(n: int) -> str:\n",
        "    return [str(n), \"Fizz\", \"Buzz\", \"FizzBuzz\"][select(n)]"
      ],
      "execution_count": null,
      "outputs": []
    },
    {
      "cell_type": "code",
      "metadata": {
        "id": "o08Bq05V1bk1"
      },
      "source": [
        "words = [\"hello\", \"local\", \"pears\", \"traps\", \"spear\", \"paper\", \"parts\", \"reaps\"]"
      ],
      "execution_count": null,
      "outputs": []
    },
    {
      "cell_type": "code",
      "metadata": {
        "id": "PcCGjMAB4N4k"
      },
      "source": [
        "[[\"spear\",\"reaps\", \"pears\"], [\"parts\", \"traps\"]]"
      ],
      "execution_count": null,
      "outputs": []
    },
    {
      "cell_type": "markdown",
      "metadata": {
        "id": "8z2eyn304ioi"
      },
      "source": [
        "## Anagram"
      ]
    },
    {
      "cell_type": "code",
      "metadata": {
        "id": "Lpf6vWSW75F_"
      },
      "source": [
        "def key_maker(s: str) -> str:\n",
        "    return ''.join(sorted(s))"
      ],
      "execution_count": null,
      "outputs": []
    },
    {
      "cell_type": "code",
      "metadata": {
        "id": "DsnLNTAP8BLT"
      },
      "source": [
        "key_maker('spear'), key_maker('pears')"
      ],
      "execution_count": null,
      "outputs": []
    },
    {
      "cell_type": "code",
      "metadata": {
        "id": "8KDLjYhk8IHz"
      },
      "source": [
        "def make_anagram_list(inwords: [str]) -> dict:\n",
        "    anagrams = {}\n",
        "    for w in inwords:\n",
        "        key = key_maker(w)\n",
        "        if key not in anagrams:\n",
        "            anagrams[key] = [w]\n",
        "        else:\n",
        "            anagrams[key].append(w)\n",
        "    return [v for v in anagrams.values() if len(v) > 1]\n"
      ],
      "execution_count": null,
      "outputs": []
    },
    {
      "cell_type": "code",
      "metadata": {
        "id": "b3H_d1tR9Bza"
      },
      "source": [
        "make_anagram_list(words)"
      ],
      "execution_count": null,
      "outputs": []
    },
    {
      "cell_type": "markdown",
      "metadata": {
        "id": "cdD8Zu399Fga"
      },
      "source": [
        "# Odometer"
      ]
    },
    {
      "cell_type": "code",
      "metadata": {
        "id": "zaL655BeDldu"
      },
      "source": [
        "123, 124, 125, 126, 127, 128, 129, 134, 135, 136, 137, 138, 139, 145\n",
        "\n",
        "569, 678, 679, 789"
      ],
      "execution_count": null,
      "outputs": []
    },
    {
      "cell_type": "markdown",
      "metadata": {
        "id": "uvltACNgFxMK"
      },
      "source": [
        "# Kaprekar"
      ]
    },
    {
      "cell_type": "code",
      "metadata": {
        "id": "T6KNT-FKF6TV"
      },
      "source": [
        "def num2digits(n: int) -> [int]:\n",
        "    return [int(ch) for ch in str(n)]\n",
        "def digits2num(ds:[int]) -> int:\n",
        "    return int(''.join([str(d) for d in ds]))\n",
        "def largest(n: int) -> int:\n",
        "    return digits2num(sorted(num2digits(n), reverse=True))\n",
        "def smallest(n: int) -> int:\n",
        "    return digits2num(sorted(num2digits(n)))\n",
        "def next_Kap(n: int) -> int:\n",
        "    return largest(n) - smallest(n)\n",
        "def kap_seq(n: int) -> [int]:\n",
        "    k = next_Kap(n)\n",
        "    if n == k:\n",
        "        return [n]\n",
        "    return [n] + kap_seq(k)"
      ],
      "execution_count": null,
      "outputs": []
    },
    {
      "cell_type": "code",
      "metadata": {
        "id": "h7Gmjk__GRvW"
      },
      "source": [
        "kap_seq(1878)"
      ],
      "execution_count": null,
      "outputs": []
    },
    {
      "cell_type": "code",
      "metadata": {
        "id": "GbWBqG6HGdsd"
      },
      "source": [
        ""
      ],
      "execution_count": null,
      "outputs": []
    },
    {
      "cell_type": "code",
      "metadata": {
        "id": "IRxRodTeGkrW"
      },
      "source": [
        "def "
      ],
      "execution_count": null,
      "outputs": []
    }
  ]
}