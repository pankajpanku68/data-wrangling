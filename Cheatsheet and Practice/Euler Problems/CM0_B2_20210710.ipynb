{
  "nbformat": 4,
  "nbformat_minor": 0,
  "metadata": {
    "colab": {
      "name": "CM0-B2-20210710.ipynb",
      "private_outputs": true,
      "provenance": []
    },
    "kernelspec": {
      "name": "python3",
      "display_name": "Python 3"
    },
    "language_info": {
      "name": "python"
    }
  },
  "cells": [
    {
      "cell_type": "markdown",
      "metadata": {
        "id": "AQm8kemkflHf"
      },
      "source": [
        "\n",
        "#Project Euler Problem #1\n",
        "If we list all the natural numbers below 10 that are multiples of 3 or 5, we get 3, 5, 6 and 9. The sum of these multiples is 23.\n",
        "\n",
        "Find the sum of all the multiples of 3 or 5 below 1000.\n"
      ]
    },
    {
      "cell_type": "code",
      "metadata": {
        "id": "xlNvYza8gY86"
      },
      "source": [
        "LIMIT = 1000"
      ],
      "execution_count": null,
      "outputs": []
    },
    {
      "cell_type": "code",
      "metadata": {
        "id": "yCt89UC6hyId"
      },
      "source": [
        "n, total = 1, 0\n",
        "while n < LIMIT:\n",
        "    if n % 3 == 0 or n % 5 == 0:\n",
        "        total += n\n",
        "    n += 1\n",
        "print(total)"
      ],
      "execution_count": null,
      "outputs": []
    },
    {
      "cell_type": "code",
      "metadata": {
        "id": "MkhdB-cuiFsn"
      },
      "source": [
        "def pick(n: int) -> bool:\n",
        "    return n % 3 == 0 or n % 5 == 0"
      ],
      "execution_count": null,
      "outputs": []
    },
    {
      "cell_type": "code",
      "metadata": {
        "id": "MfzCyP0SjHpj"
      },
      "source": [
        "n, total = 1, 0\n",
        "while n < LIMIT:\n",
        "    if pick(n):\n",
        "        total += n\n",
        "    n += 1\n",
        "print(total)"
      ],
      "execution_count": null,
      "outputs": []
    },
    {
      "cell_type": "code",
      "metadata": {
        "id": "Rlbub9uujM1j"
      },
      "source": [
        "a = pick(7.5)"
      ],
      "execution_count": null,
      "outputs": []
    },
    {
      "cell_type": "code",
      "metadata": {
        "id": "IQ241-JYjhte"
      },
      "source": [
        "range(10)"
      ],
      "execution_count": null,
      "outputs": []
    },
    {
      "cell_type": "code",
      "metadata": {
        "id": "JhJpKWNhlVDl"
      },
      "source": [
        "range?"
      ],
      "execution_count": null,
      "outputs": []
    },
    {
      "cell_type": "code",
      "metadata": {
        "id": "JiuAogZmlbu5"
      },
      "source": [
        "list(range(10))"
      ],
      "execution_count": null,
      "outputs": []
    },
    {
      "cell_type": "code",
      "metadata": {
        "id": "snZi-sG1lqmc"
      },
      "source": [
        "list(range(3, 18))"
      ],
      "execution_count": null,
      "outputs": []
    },
    {
      "cell_type": "code",
      "metadata": {
        "id": "X06IYuVklzma"
      },
      "source": [
        "list(range(5, 67, 6))"
      ],
      "execution_count": null,
      "outputs": []
    },
    {
      "cell_type": "code",
      "metadata": {
        "id": "7wDhmcQ_l5Qt"
      },
      "source": [
        "total = 0\n",
        "for n in range(1, LIMIT):\n",
        "    if n % 3 == 0 or n % 5 == 0:\n",
        "        total += n\n",
        "print(total)"
      ],
      "execution_count": null,
      "outputs": []
    },
    {
      "cell_type": "code",
      "metadata": {
        "id": "CyEPb-zJn6Bp"
      },
      "source": [
        "total = 0\n",
        "for n in range(1, LIMIT):\n",
        "    if pick(n):\n",
        "        total += n\n",
        "print(total)"
      ],
      "execution_count": null,
      "outputs": []
    },
    {
      "cell_type": "code",
      "metadata": {
        "id": "CKGAMgOloKU6"
      },
      "source": [
        "sum([1, 7, 9, -2])"
      ],
      "execution_count": null,
      "outputs": []
    },
    {
      "cell_type": "code",
      "metadata": {
        "id": "v0HAILDUok29"
      },
      "source": [
        "euler1 = sum(range(3, LIMIT, 3)) + sum(range(5, LIMIT, 5)) - sum(range(15, LIMIT, 15))\n",
        "print(euler1)"
      ],
      "execution_count": null,
      "outputs": []
    },
    {
      "cell_type": "code",
      "metadata": {
        "id": "SnzPml4To2yD"
      },
      "source": [
        "euler1 = sum(set(range(3, LIMIT, 3)) | set(range(5, LIMIT, 5)))\n",
        "print(euler1)"
      ],
      "execution_count": null,
      "outputs": []
    },
    {
      "cell_type": "code",
      "metadata": {
        "id": "VAyIilKgp1RH"
      },
      "source": [
        "!python --version"
      ],
      "execution_count": null,
      "outputs": []
    },
    {
      "cell_type": "code",
      "metadata": {
        "id": "tckhTUMTrNY-"
      },
      "source": [
        "pick(4)"
      ],
      "execution_count": null,
      "outputs": []
    },
    {
      "cell_type": "code",
      "metadata": {
        "id": "_C9xpPXbtknQ"
      },
      "source": [
        "pick(6)"
      ],
      "execution_count": null,
      "outputs": []
    },
    {
      "cell_type": "code",
      "metadata": {
        "id": "2MH7FkAUtl7z"
      },
      "source": [
        "sum(filter(pick, range(1, LIMIT)))"
      ],
      "execution_count": null,
      "outputs": []
    },
    {
      "cell_type": "code",
      "metadata": {
        "id": "e7mWvbzitsqs"
      },
      "source": [
        "filter?"
      ],
      "execution_count": null,
      "outputs": []
    },
    {
      "cell_type": "code",
      "metadata": {
        "id": "yaAAhh28t2W9"
      },
      "source": [
        "sum([x for x in range(1, LIMIT) if pick(x)])"
      ],
      "execution_count": null,
      "outputs": []
    },
    {
      "cell_type": "code",
      "metadata": {
        "id": "5xYusB3rv_4_"
      },
      "source": [
        "[p for p in range(1, 50) if pick(p)]"
      ],
      "execution_count": null,
      "outputs": []
    },
    {
      "cell_type": "code",
      "metadata": {
        "id": "dezc31FawoWi"
      },
      "source": [
        "#pp = [p for p in range(1, 50) if pick(p)]\n",
        "\n",
        "pp = []\n",
        "for i in range(1, LIMIT):\n",
        "    if pick(i):\n",
        "        pp.append(i)\n",
        "sum(pp)"
      ],
      "execution_count": null,
      "outputs": []
    },
    {
      "cell_type": "markdown",
      "metadata": {
        "id": "KJRJeagrxiUi"
      },
      "source": [
        "# Lists\n",
        "\n",
        "* heterogenous data structure\n",
        "* extensively used\n",
        "* Built-in"
      ]
    },
    {
      "cell_type": "code",
      "metadata": {
        "id": "H9VuSLyDx-mZ"
      },
      "source": [
        "f = [0, 1, 1, 2, 3, 5, 8]"
      ],
      "execution_count": null,
      "outputs": []
    },
    {
      "cell_type": "code",
      "metadata": {
        "id": "ve0UsTxoyHpX"
      },
      "source": [
        "p = [2, 3, 5, 7]"
      ],
      "execution_count": null,
      "outputs": []
    },
    {
      "cell_type": "code",
      "metadata": {
        "id": "6IW7IDj7yJ2L"
      },
      "source": [
        "countries = [\"UK\", \"USA\", \"France\"]"
      ],
      "execution_count": null,
      "outputs": []
    },
    {
      "cell_type": "code",
      "metadata": {
        "id": "bNA6z4F3yN5V"
      },
      "source": [
        "smorg = [\"Hello\", 1, True, [\"in\", \"out\"]]"
      ],
      "execution_count": null,
      "outputs": []
    },
    {
      "cell_type": "code",
      "metadata": {
        "id": "YfzJcECHyT4K"
      },
      "source": [
        "smorg2 = [\"Yes\", countries]"
      ],
      "execution_count": null,
      "outputs": []
    },
    {
      "cell_type": "code",
      "metadata": {
        "id": "CoIw5GOBzKHa"
      },
      "source": [
        "print(smorg2)"
      ],
      "execution_count": null,
      "outputs": []
    },
    {
      "cell_type": "code",
      "metadata": {
        "id": "f2YOneSrzLiM"
      },
      "source": [
        "p"
      ],
      "execution_count": null,
      "outputs": []
    },
    {
      "cell_type": "code",
      "metadata": {
        "id": "rEyHAI1ZzY5Q"
      },
      "source": [
        "p[0]"
      ],
      "execution_count": null,
      "outputs": []
    },
    {
      "cell_type": "code",
      "metadata": {
        "id": "4EvCvH4yzdDS"
      },
      "source": [
        "p[1]"
      ],
      "execution_count": null,
      "outputs": []
    },
    {
      "cell_type": "code",
      "metadata": {
        "id": "sFDW32kNzeMt"
      },
      "source": [
        "p[4]"
      ],
      "execution_count": null,
      "outputs": []
    },
    {
      "cell_type": "code",
      "metadata": {
        "id": "meVM6ELZzfQ1"
      },
      "source": [
        "smorg2[0]"
      ],
      "execution_count": null,
      "outputs": []
    },
    {
      "cell_type": "code",
      "metadata": {
        "id": "uIMaIqFJ0BIZ"
      },
      "source": [
        "smorg2[1]"
      ],
      "execution_count": null,
      "outputs": []
    },
    {
      "cell_type": "code",
      "metadata": {
        "id": "MUhfGKkV0Cer"
      },
      "source": [
        "smorg2[1][1]"
      ],
      "execution_count": null,
      "outputs": []
    },
    {
      "cell_type": "code",
      "metadata": {
        "id": "HQ_z4jaj0E1r"
      },
      "source": [
        "smorg2[0][1]"
      ],
      "execution_count": null,
      "outputs": []
    },
    {
      "cell_type": "code",
      "metadata": {
        "id": "vI1oUTxQ0HkA"
      },
      "source": [
        "smorg2"
      ],
      "execution_count": null,
      "outputs": []
    },
    {
      "cell_type": "code",
      "metadata": {
        "id": "CdjZXktH0RJm"
      },
      "source": [
        "smorg3 = [8, countries]"
      ],
      "execution_count": null,
      "outputs": []
    },
    {
      "cell_type": "code",
      "metadata": {
        "id": "nD91vM1_0X6q"
      },
      "source": [
        "smorg3[1][1]"
      ],
      "execution_count": null,
      "outputs": []
    },
    {
      "cell_type": "code",
      "metadata": {
        "id": "QPrsSuEb0alZ"
      },
      "source": [
        "smorg3[0]"
      ],
      "execution_count": null,
      "outputs": []
    },
    {
      "cell_type": "code",
      "metadata": {
        "id": "D2QI7Jo60bxZ"
      },
      "source": [
        "smorg3[1]"
      ],
      "execution_count": null,
      "outputs": []
    },
    {
      "cell_type": "code",
      "metadata": {
        "id": "EqTr0W7B0c2W"
      },
      "source": [
        "smorg3[0][1]"
      ],
      "execution_count": null,
      "outputs": []
    },
    {
      "cell_type": "code",
      "metadata": {
        "id": "2RM3N_t40if1"
      },
      "source": [
        "a20 = [0] * 20 "
      ],
      "execution_count": null,
      "outputs": []
    },
    {
      "cell_type": "code",
      "metadata": {
        "id": "1DlX1II21tev"
      },
      "source": [
        "print(a20)"
      ],
      "execution_count": null,
      "outputs": []
    },
    {
      "cell_type": "markdown",
      "metadata": {
        "id": "lP4EB5Rz3FPb"
      },
      "source": [
        "# Primes"
      ]
    },
    {
      "cell_type": "code",
      "metadata": {
        "id": "1_qhaABg-Vbz"
      },
      "source": [
        "def is_prime(n: int) -> bool:\n",
        "    if n < 2:\n",
        "        return False\n",
        "    if n in [2, 3]:  \n",
        "        return True\n",
        "    if n % 2 == 0:\n",
        "        return False\n",
        "    factor = 3\n",
        "    while factor * factor <= n:\n",
        "        if n % factor == 0:\n",
        "            return False\n",
        "        factor += 2\n",
        "    return True"
      ],
      "execution_count": null,
      "outputs": []
    },
    {
      "cell_type": "code",
      "metadata": {
        "id": "ubpwgpUo_tBs"
      },
      "source": [
        "is_prime(13)"
      ],
      "execution_count": null,
      "outputs": []
    },
    {
      "cell_type": "markdown",
      "metadata": {
        "id": "ZnaP0gBBEN-q"
      },
      "source": [
        "# Lists"
      ]
    },
    {
      "cell_type": "code",
      "metadata": {
        "id": "J2K7UqH-ERSQ"
      },
      "source": [
        "p = [2, 3, 5, 7, 11]"
      ],
      "execution_count": null,
      "outputs": []
    },
    {
      "cell_type": "code",
      "metadata": {
        "id": "M-_D9utUEUaQ"
      },
      "source": [
        "p[-1]"
      ],
      "execution_count": null,
      "outputs": []
    },
    {
      "cell_type": "code",
      "metadata": {
        "id": "ZRhzkSKGEY1H"
      },
      "source": [
        "p[-2]"
      ],
      "execution_count": null,
      "outputs": []
    },
    {
      "cell_type": "code",
      "metadata": {
        "id": "hh8Pk8dLEhft"
      },
      "source": [
        "p.append(13)"
      ],
      "execution_count": null,
      "outputs": []
    },
    {
      "cell_type": "code",
      "metadata": {
        "id": "Y3r13UZREzua"
      },
      "source": [
        "p"
      ],
      "execution_count": null,
      "outputs": []
    },
    {
      "cell_type": "code",
      "metadata": {
        "id": "oMWCX5t-E0Wg"
      },
      "source": [
        "p.append(17)"
      ],
      "execution_count": null,
      "outputs": []
    },
    {
      "cell_type": "code",
      "metadata": {
        "id": "oxKVoXhhE4Wy"
      },
      "source": [
        "p"
      ],
      "execution_count": null,
      "outputs": []
    },
    {
      "cell_type": "code",
      "metadata": {
        "id": "0BRfwUwQE42s"
      },
      "source": [
        "def digits(n: int) -> [int]:\n",
        "    ds = []\n",
        "    while n > 0:\n",
        "        ds.append(n % 10)\n",
        "        n //= 10 # => n = n // 10\n",
        "    return ds"
      ],
      "execution_count": null,
      "outputs": []
    },
    {
      "cell_type": "code",
      "metadata": {
        "id": "foN3wrBaFT2E"
      },
      "source": [
        "digits(145)"
      ],
      "execution_count": null,
      "outputs": []
    },
    {
      "cell_type": "code",
      "metadata": {
        "id": "EbLs2F36FX4e"
      },
      "source": [
        "7/2"
      ],
      "execution_count": null,
      "outputs": []
    },
    {
      "cell_type": "code",
      "metadata": {
        "id": "1XeYU8X0Fnxg"
      },
      "source": [
        "7//2"
      ],
      "execution_count": null,
      "outputs": []
    },
    {
      "cell_type": "code",
      "metadata": {
        "id": "Q7xtkBR0Fowa"
      },
      "source": [
        "def num2digits(n: int) -> [int]:\n",
        "    ds = []\n",
        "    while n > 0:\n",
        "        ds.insert(0, n % 10)\n",
        "        n //= 10 # => n = n // 10\n",
        "    return ds"
      ],
      "execution_count": null,
      "outputs": []
    },
    {
      "cell_type": "code",
      "metadata": {
        "id": "quMYHVLgGJ4x"
      },
      "source": [
        "num2digits(167)"
      ],
      "execution_count": null,
      "outputs": []
    },
    {
      "cell_type": "code",
      "metadata": {
        "id": "w4NGd99FGL3R"
      },
      "source": [
        "p"
      ],
      "execution_count": null,
      "outputs": []
    },
    {
      "cell_type": "code",
      "metadata": {
        "id": "v437YJPjGfsN"
      },
      "source": [
        "q = [2, 3, 5, 7, 11, 13, 17]"
      ],
      "execution_count": null,
      "outputs": []
    },
    {
      "cell_type": "code",
      "metadata": {
        "id": "_OZNXZFaGlLN"
      },
      "source": [
        "q.reverse()"
      ],
      "execution_count": null,
      "outputs": []
    },
    {
      "cell_type": "code",
      "metadata": {
        "id": "mRZJmLOeGmxd"
      },
      "source": [
        "q"
      ],
      "execution_count": null,
      "outputs": []
    },
    {
      "cell_type": "code",
      "metadata": {
        "id": "Gsj9APX7GnWS"
      },
      "source": [
        "sum(num2digits(18976))"
      ],
      "execution_count": null,
      "outputs": []
    },
    {
      "cell_type": "code",
      "metadata": {
        "id": "X8LFmSn9G7V1"
      },
      "source": [
        "len(q)"
      ],
      "execution_count": null,
      "outputs": []
    },
    {
      "cell_type": "code",
      "metadata": {
        "id": "ISBNlVIiG97l"
      },
      "source": [
        "min(q)"
      ],
      "execution_count": null,
      "outputs": []
    },
    {
      "cell_type": "code",
      "metadata": {
        "id": "xNw-NFFUHAmb"
      },
      "source": [
        "max(q)"
      ],
      "execution_count": null,
      "outputs": []
    },
    {
      "cell_type": "code",
      "metadata": {
        "id": "f_8a91CEHBzb"
      },
      "source": [
        "p"
      ],
      "execution_count": null,
      "outputs": []
    },
    {
      "cell_type": "code",
      "metadata": {
        "id": "j5DNp9fhHT0A"
      },
      "source": [
        "p.append([19, 23, 29, 31])"
      ],
      "execution_count": null,
      "outputs": []
    },
    {
      "cell_type": "code",
      "metadata": {
        "id": "9j5Y0uMmHX5Z"
      },
      "source": [
        "len(p)"
      ],
      "execution_count": null,
      "outputs": []
    },
    {
      "cell_type": "code",
      "metadata": {
        "id": "ZRzQeQ67Hlkh"
      },
      "source": [
        "print(p)"
      ],
      "execution_count": null,
      "outputs": []
    },
    {
      "cell_type": "code",
      "metadata": {
        "id": "kKYI7yWcHnsn"
      },
      "source": [
        "q"
      ],
      "execution_count": null,
      "outputs": []
    },
    {
      "cell_type": "code",
      "metadata": {
        "id": "DXs-Slk-HsSt"
      },
      "source": [
        "q.extend([19, 23, 29, 31])"
      ],
      "execution_count": null,
      "outputs": []
    },
    {
      "cell_type": "code",
      "metadata": {
        "id": "6IgPgmdcHzBq"
      },
      "source": [
        "len(q)"
      ],
      "execution_count": null,
      "outputs": []
    },
    {
      "cell_type": "code",
      "metadata": {
        "id": "O-FuJOHfH0Z9"
      },
      "source": [
        "q"
      ],
      "execution_count": null,
      "outputs": []
    },
    {
      "cell_type": "code",
      "metadata": {
        "id": "MMm3F40qH1Ne"
      },
      "source": [
        "q.extend(7)"
      ],
      "execution_count": null,
      "outputs": []
    },
    {
      "cell_type": "code",
      "metadata": {
        "id": "P4OpMYR-IVLM"
      },
      "source": [
        "q.extend(19, 31)"
      ],
      "execution_count": null,
      "outputs": []
    },
    {
      "cell_type": "code",
      "metadata": {
        "id": "yA5sxG2GIfXF"
      },
      "source": [
        "q"
      ],
      "execution_count": null,
      "outputs": []
    },
    {
      "cell_type": "code",
      "metadata": {
        "id": "HntvbKDxIuav"
      },
      "source": [
        "q.sort()"
      ],
      "execution_count": null,
      "outputs": []
    },
    {
      "cell_type": "code",
      "metadata": {
        "id": "508_NEeoIxL5"
      },
      "source": [
        "q"
      ],
      "execution_count": null,
      "outputs": []
    },
    {
      "cell_type": "code",
      "metadata": {
        "id": "mYPtEpfmIx35"
      },
      "source": [
        "qq = [17, 13, 11, 7, 5, 3, 2, 19, 23, 29, 31]\n",
        "pq = qq.sort()"
      ],
      "execution_count": null,
      "outputs": []
    },
    {
      "cell_type": "code",
      "metadata": {
        "id": "fkTWntXkJJ3Q"
      },
      "source": [
        "pq"
      ],
      "execution_count": null,
      "outputs": []
    },
    {
      "cell_type": "code",
      "metadata": {
        "id": "_RL0iucAJMNy"
      },
      "source": [
        "qq"
      ],
      "execution_count": null,
      "outputs": []
    },
    {
      "cell_type": "code",
      "metadata": {
        "id": "eY_x1OXAJPxA"
      },
      "source": [
        "qq = qq.sort()"
      ],
      "execution_count": null,
      "outputs": []
    },
    {
      "cell_type": "code",
      "metadata": {
        "id": "C947_wISJUts"
      },
      "source": [
        "qq"
      ],
      "execution_count": null,
      "outputs": []
    },
    {
      "cell_type": "code",
      "metadata": {
        "id": "Ya_hoOACJVhc"
      },
      "source": [
        "q1 = [17, 13, 11, 7, 5, 3, 2, 19, 23, 29, 31]"
      ],
      "execution_count": null,
      "outputs": []
    },
    {
      "cell_type": "code",
      "metadata": {
        "id": "WxGmv6kyJqZz"
      },
      "source": [
        "p1 = q1"
      ],
      "execution_count": null,
      "outputs": []
    },
    {
      "cell_type": "code",
      "metadata": {
        "id": "Nkrtax3_JsD2"
      },
      "source": [
        "p1"
      ],
      "execution_count": null,
      "outputs": []
    },
    {
      "cell_type": "code",
      "metadata": {
        "id": "lirNAzZ0Junj"
      },
      "source": [
        "sp = sorted(p1)\n",
        "print(sp)\n",
        "print(p1)"
      ],
      "execution_count": null,
      "outputs": []
    },
    {
      "cell_type": "code",
      "metadata": {
        "id": "Umc7DH3aJ0nP"
      },
      "source": [
        "pr = reversed(p1)"
      ],
      "execution_count": null,
      "outputs": []
    },
    {
      "cell_type": "code",
      "metadata": {
        "id": "cOAYMKcJKEij"
      },
      "source": [
        "print(pr)"
      ],
      "execution_count": null,
      "outputs": []
    },
    {
      "cell_type": "code",
      "metadata": {
        "id": "HA-VelW0KF7j"
      },
      "source": [
        "print(list(pr))"
      ],
      "execution_count": null,
      "outputs": []
    },
    {
      "cell_type": "code",
      "metadata": {
        "id": "EYkwXR3MKIZz"
      },
      "source": [
        "p1"
      ],
      "execution_count": null,
      "outputs": []
    },
    {
      "cell_type": "code",
      "metadata": {
        "id": "AX65f435KJpS"
      },
      "source": [
        "sorted?"
      ],
      "execution_count": null,
      "outputs": []
    },
    {
      "cell_type": "code",
      "metadata": {
        "id": "hWR30eEwLWQE"
      },
      "source": [
        "nodes = [[0, 7], [1, 6], [2, -2], [3, 8], [4, 7]]"
      ],
      "execution_count": null,
      "outputs": []
    },
    {
      "cell_type": "code",
      "metadata": {
        "id": "tp0TFRsvLmfI"
      },
      "source": [
        "sorted(nodes)"
      ],
      "execution_count": null,
      "outputs": []
    },
    {
      "cell_type": "code",
      "metadata": {
        "id": "3P86YdR_LpsS"
      },
      "source": [
        "def second(x):\n",
        "    return x[1]"
      ],
      "execution_count": null,
      "outputs": []
    },
    {
      "cell_type": "code",
      "metadata": {
        "id": "XsPZROA-L3aM"
      },
      "source": [
        "second([2, 7])"
      ],
      "execution_count": null,
      "outputs": []
    },
    {
      "cell_type": "code",
      "metadata": {
        "id": "qIhs4cbLL5rt"
      },
      "source": [
        "sorted(nodes, key=second)"
      ],
      "execution_count": null,
      "outputs": []
    },
    {
      "cell_type": "code",
      "metadata": {
        "id": "OYmQoPv_L-BB"
      },
      "source": [
        "sorted(nodes, key=sum)"
      ],
      "execution_count": null,
      "outputs": []
    },
    {
      "cell_type": "code",
      "metadata": {
        "id": "ryv4aMbNMMzW"
      },
      "source": [
        "sorted([\"Hello\", 1])"
      ],
      "execution_count": null,
      "outputs": []
    },
    {
      "cell_type": "code",
      "metadata": {
        "id": "vEmYDkntNZoz"
      },
      "source": [
        "p = sorted(p1)"
      ],
      "execution_count": null,
      "outputs": []
    },
    {
      "cell_type": "code",
      "metadata": {
        "id": "H0Jh69AeOuwm"
      },
      "source": [
        "p"
      ],
      "execution_count": null,
      "outputs": []
    },
    {
      "cell_type": "code",
      "metadata": {
        "id": "7XN69LwZO0l2"
      },
      "source": [
        "p[3:7]"
      ],
      "execution_count": null,
      "outputs": []
    },
    {
      "cell_type": "code",
      "metadata": {
        "id": "qg_DK6rPO5Pl"
      },
      "source": [
        "p[2:]"
      ],
      "execution_count": null,
      "outputs": []
    },
    {
      "cell_type": "code",
      "metadata": {
        "id": "W-TCdgitO894"
      },
      "source": [
        "p[:8]"
      ],
      "execution_count": null,
      "outputs": []
    },
    {
      "cell_type": "code",
      "metadata": {
        "id": "gBfEbBREO-a3"
      },
      "source": [
        "p[:]"
      ],
      "execution_count": null,
      "outputs": []
    },
    {
      "cell_type": "code",
      "metadata": {
        "id": "NAZY1FvvQB2u"
      },
      "source": [
        "print(p[:])"
      ],
      "execution_count": null,
      "outputs": []
    },
    {
      "cell_type": "code",
      "metadata": {
        "id": "w6mA6_bMQGCl"
      },
      "source": [
        "print(p)"
      ],
      "execution_count": null,
      "outputs": []
    },
    {
      "cell_type": "code",
      "metadata": {
        "id": "LA5z_BCRQHIo"
      },
      "source": [
        "t = p"
      ],
      "execution_count": null,
      "outputs": []
    },
    {
      "cell_type": "code",
      "metadata": {
        "id": "iMZBwIXIQY-T"
      },
      "source": [
        "t.append(37)"
      ],
      "execution_count": null,
      "outputs": []
    },
    {
      "cell_type": "code",
      "metadata": {
        "id": "03WCGRLgQbtL"
      },
      "source": [
        "print(p)"
      ],
      "execution_count": null,
      "outputs": []
    },
    {
      "cell_type": "code",
      "metadata": {
        "id": "ecKrtGBOQdO5"
      },
      "source": [
        "p = [2, 3, 5, 7, 11, 13, 17, 19, 23, 29, 31]"
      ],
      "execution_count": null,
      "outputs": []
    },
    {
      "cell_type": "code",
      "metadata": {
        "id": "vfjwQ-vyRBL4"
      },
      "source": [
        "t = p"
      ],
      "execution_count": null,
      "outputs": []
    },
    {
      "cell_type": "code",
      "metadata": {
        "id": "k46nqh6LRCNv"
      },
      "source": [
        "t.append(37)"
      ],
      "execution_count": null,
      "outputs": []
    },
    {
      "cell_type": "code",
      "metadata": {
        "id": "nw4RmlDhReuu"
      },
      "source": [
        "p"
      ],
      "execution_count": null,
      "outputs": []
    },
    {
      "cell_type": "code",
      "metadata": {
        "id": "iQUxz2iDRfTN"
      },
      "source": [
        "s = p[:]"
      ],
      "execution_count": null,
      "outputs": []
    },
    {
      "cell_type": "code",
      "metadata": {
        "id": "64HR2m51Rpqf"
      },
      "source": [
        "s.append(41)"
      ],
      "execution_count": null,
      "outputs": []
    },
    {
      "cell_type": "code",
      "metadata": {
        "id": "MW6UAARORwnE"
      },
      "source": [
        "s"
      ],
      "execution_count": null,
      "outputs": []
    },
    {
      "cell_type": "code",
      "metadata": {
        "id": "cDXRGliwRxwu"
      },
      "source": [
        "p"
      ],
      "execution_count": null,
      "outputs": []
    },
    {
      "cell_type": "code",
      "metadata": {
        "id": "f9DxKvetRygY"
      },
      "source": [
        "f"
      ],
      "execution_count": null,
      "outputs": []
    },
    {
      "cell_type": "code",
      "metadata": {
        "id": "pzDUpC4zTGR3"
      },
      "source": [
        "f[2:4]"
      ],
      "execution_count": null,
      "outputs": []
    },
    {
      "cell_type": "code",
      "metadata": {
        "id": "G9b0rpI2TH0d"
      },
      "source": [
        "f[2:4] = [9, 6]"
      ],
      "execution_count": null,
      "outputs": []
    },
    {
      "cell_type": "code",
      "metadata": {
        "id": "BiqcWH17TLk0"
      },
      "source": [
        "f"
      ],
      "execution_count": null,
      "outputs": []
    },
    {
      "cell_type": "code",
      "metadata": {
        "id": "onzC3VfvTMQJ"
      },
      "source": [
        "g = [8, 9, 10,11]\n",
        "f"
      ],
      "execution_count": null,
      "outputs": []
    },
    {
      "cell_type": "code",
      "metadata": {
        "id": "rFswzT_SThly"
      },
      "source": [
        "f[3:6] = g[1:]"
      ],
      "execution_count": null,
      "outputs": []
    },
    {
      "cell_type": "code",
      "metadata": {
        "id": "ks9XQ7tTTmKk"
      },
      "source": [
        "f"
      ],
      "execution_count": null,
      "outputs": []
    },
    {
      "cell_type": "code",
      "metadata": {
        "id": "aM_2bA1STmr3"
      },
      "source": [
        "p"
      ],
      "execution_count": null,
      "outputs": []
    },
    {
      "cell_type": "code",
      "metadata": {
        "id": "bXsxaTk5Tz1d"
      },
      "source": [
        "p[3:9:2]"
      ],
      "execution_count": null,
      "outputs": []
    },
    {
      "cell_type": "code",
      "metadata": {
        "id": "VFQ2I_LhT24l"
      },
      "source": [
        "p[:8:3]"
      ],
      "execution_count": null,
      "outputs": []
    },
    {
      "cell_type": "code",
      "metadata": {
        "id": "a2OCMQDbT7Qi"
      },
      "source": [
        "p[::4]"
      ],
      "execution_count": null,
      "outputs": []
    },
    {
      "cell_type": "code",
      "metadata": {
        "id": "pE00gywIT_fm"
      },
      "source": [
        "p[::2]"
      ],
      "execution_count": null,
      "outputs": []
    },
    {
      "cell_type": "code",
      "metadata": {
        "id": "LbHQHHFFUu9s"
      },
      "source": [
        "p[1::2]"
      ],
      "execution_count": null,
      "outputs": []
    },
    {
      "cell_type": "code",
      "metadata": {
        "id": "p2CXDobrUwnq"
      },
      "source": [
        ""
      ],
      "execution_count": null,
      "outputs": []
    }
  ]
}